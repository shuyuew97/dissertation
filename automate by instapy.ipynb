{
 "cells": [
  {
   "cell_type": "code",
   "execution_count": null,
   "metadata": {},
   "outputs": [],
   "source": [
    "from instapy import InstaPy\n",
    "from instapy import smart_run\n",
    "from selenium import webdriver\n",
    "from instapy import set_workspace\n",
    "import schedule\n",
    "import time\n",
    "from time import sleep\n",
    "from random import randint"
   ]
  },
  {
   "cell_type": "code",
   "execution_count": null,
   "metadata": {},
   "outputs": [],
   "source": [
    "insta_username = 'feedmegood'  # <- enter username here\n",
    "insta_password = 'passwordhere'\n",
    "# set headless_browser=True to run InstaPy in the background\n",
    "session = InstaPy(username=insta_username,\n",
    "                  password=insta_password,\n",
    "                  headless_browser=False)"
   ]
  },
  {
   "cell_type": "code",
   "execution_count": null,
   "metadata": {
    "scrolled": true
   },
   "outputs": [],
   "source": [
    "#set quota to be more like human\n",
    "with smart_run(session):\n",
    "    session.set_quota_supervisor(enabled=True,\n",
    "                            sleep_after=[\"likes_h\", \"comments_h\", \"follows_h\", \"unfollows_h\", \"server_calls_h\"],\n",
    "                            sleepyhead=True,\n",
    "                            stochastic_flow=True,\n",
    "                            notify_me=True,\n",
    "                            peak_likes_hourly=30,\n",
    "                            peak_likes_daily=200,\n",
    "                            peak_comments_hourly=20,\n",
    "                            peak_comments_daily=200,\n",
    "                            peak_follows_hourly=40,\n",
    "                            peak_follows_daily=None,\n",
    "                            peak_unfollows_hourly=50,\n",
    "                            peak_unfollows_daily=None,\n",
    "                            peak_server_calls_hourly=None,\n",
    "                            peak_server_calls_daily=4700)\n",
    "    session.set_skip_users(skip_private=True,\n",
    "                           private_percentage=100,\n",
    "                           skip_no_profile_pic=True,\n",
    "                           no_profile_pic_percentage=100)\n",
    "    session.set_relationship_bounds(enabled=True,\n",
    "                                    max_followers=8500,\n",
    "                                    max_following=None,\n",
    "                                    min_followers=None,\n",
    "                                    min_following=50,\n",
    "                                    min_posts=10,\n",
    "                                    max_posts=None)\n",
    "#auto like, comment, follow\n",
    "    session.set_action_delays(enabled=True,comment=25, randomize=True, random_range_from=80, random_range_to=400)\n",
    "    session.set_action_delays(enabled=True,like=17, randomize=True, random_range_from=60, random_range_to=120)\n",
    "    session.set_action_delays(enabled=True,follow=10, randomize=True, random_range_from=30, random_range_to=120)\n",
    "    session.set_do_like(enabled=True, percentage=70)\n",
    "    session.set_do_comment(enabled=True, percentage=30)\n",
    "    session.set_do_follow(enabled=True, percentage=50)\n",
    "    session.set_user_interact(amount=2, randomize=True, percentage=90, media=None)\n",
    "    session.set_comments([u'Cool!😍I like your stuff!', \"Super! I like it!!\",'Awesome! Really nice!'])\n",
    "#interact with user's followings\n",
    "    session.interact_user_following([\"foodinsight\",\"cutefoodforkids\",\"actionforchildrenuk\"], amount=100, randomize=False)\n",
    "#interact with user's followers\n",
    "    session.interact_user_followers(['kids_food_inspo',\"kidlunchbox\",\"bento_lunch_uk\",\"cutefoodforkids\"], amount=60, randomize=True)"
   ]
  },
  {
   "cell_type": "code",
   "execution_count": null,
   "metadata": {},
   "outputs": [],
   "source": [
    "#only auto comments\n",
    "with smart_run(session):\n",
    "    session.set_quota_supervisor(enabled=True, sleep_after=[\"comments_h\"],\n",
    "                                 sleepyhead=True,\n",
    "                                 stochastic_flow=True,\n",
    "                                 peak_comments_daily=240, \n",
    "                                 peak_comments_hourly=30)\n",
    "    session.set_skip_users(skip_private=True,\n",
    "                           private_percentage=100,\n",
    "                           skip_no_profile_pic=True,\n",
    "                           no_profile_pic_percentage=100)\n",
    "    session.set_relationship_bounds(enabled=True,\n",
    "                                    max_followers=8500,\n",
    "                                    max_following=None,\n",
    "                                    min_followers=None,\n",
    "                                    min_following=50,\n",
    "                                    min_posts=10,\n",
    "                                    max_posts=None)\n",
    "\n",
    "    session.set_action_delays(enabled=True,comment=8, randomize=True, random_range_from=30, random_range_to=120)\n",
    "    session.set_user_interact(amount=3, randomize=True, percentage=50, media= None)\n",
    "    session.set_comments([u'Cool!😍', \"Super!\",'Awesome!', 'Really Cool!', 'I like your stuff!'])\n",
    "    session.interact_user_followers(['kids_food_inspo','foryoubyyoucharity','helpchildrentosucceed','kidstime2play','kids.employability','kidszone_adventures'], amount=100, randomize=True)\n"
   ]
  },
  {
   "cell_type": "code",
   "execution_count": null,
   "metadata": {},
   "outputs": [],
   "source": [
    "#only auto following\n",
    "with smart_run(session):\n",
    "    session.set_quota_supervisor(enabled=True, \n",
    "                             peak_follows_daily=560, \n",
    "                             peak_follows_hourly=56, \n",
    "                             peak_unfollows_hourly=49, \n",
    "                             peak_unfollows_daily=550, \n",
    "                             sleep_after=[\"follows_h\", \"unfollows_d\"], \n",
    "                             stochastic_flow=True, notify_me=True)\n",
    "    session.set_skip_users(skip_private=True,\n",
    "                           private_percentage=100,\n",
    "                           skip_no_profile_pic=True,\n",
    "                           no_profile_pic_percentage=100)\n",
    "    session.set_relationship_bounds(enabled=True,\n",
    "                                    max_followers=8500,\n",
    "                                    max_following=None,\n",
    "                                    min_followers=None,\n",
    "                                    min_following=50,\n",
    "                                    min_posts=10,\n",
    "                                    max_posts=None)\n",
    "    session.set_action_delays(enabled=True,follow=6, randomize=True, random_range_from=30, random_range_to=120)\n",
    "    session.follow_user_followers([\"kidlunchbox\",\"cutefoodforkids\",\"actionforchildrenuk\"], amount=500, randomize=False, sleep_delay=60)"
   ]
  },
  {
   "cell_type": "code",
   "execution_count": null,
   "metadata": {},
   "outputs": [],
   "source": [
    "#auto unfollow\n",
    "with smart_run(session):\n",
    "    session.set_quota_supervisor(enabled=True, \n",
    "                             peak_unfollows_hourly=49, \n",
    "                             peak_unfollows_daily=550, \n",
    "                             sleep_after=[\"unfollows_h\"], \n",
    "                             stochastic_flow=True, notify_me=True)\n",
    "    session.set_action_delays(enabled=True, unfollow=7, randomize=True, random_range_from=30, random_range_to=120)\n",
    "    session.unfollow_users(amount=150, instapy_followed_enabled=True, instapy_followed_param=\"all\", style=\"FIFO\")"
   ]
  }
 ],
 "metadata": {
  "kernelspec": {
   "display_name": "Python 3",
   "language": "python",
   "name": "python3"
  },
  "language_info": {
   "codemirror_mode": {
    "name": "ipython",
    "version": 3
   },
   "file_extension": ".py",
   "mimetype": "text/x-python",
   "name": "python",
   "nbconvert_exporter": "python",
   "pygments_lexer": "ipython3",
   "version": "3.8.3"
  }
 },
 "nbformat": 4,
 "nbformat_minor": 4
}
