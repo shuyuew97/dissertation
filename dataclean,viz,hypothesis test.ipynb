{
 "cells": [
  {
   "cell_type": "code",
   "execution_count": 1,
   "metadata": {},
   "outputs": [],
   "source": [
    "from IPython.core.interactiveshell import InteractiveShell\n",
    "InteractiveShell.ast_node_interactivity =\"all\"\n",
    "\n",
    "import pandas as pd\n",
    "import numpy as np\n",
    "import matplotlib as mpl\n",
    "import matplotlib.pyplot as plt\n",
    "import matplotlib.gridspec as gridspec\n",
    "import seaborn as sns"
   ]
  },
  {
   "cell_type": "code",
   "execution_count": 2,
   "metadata": {},
   "outputs": [],
   "source": [
    "like = pd.read_csv('/like.csv')\n",
    "followlike = pd.read_csv('/follow.csv')\n",
    "followback = pd.read_csv('/followback.csv')"
   ]
  },
  {
   "cell_type": "code",
   "execution_count": 3,
   "metadata": {},
   "outputs": [
    {
     "name": "stdout",
     "output_type": "stream",
     "text": [
      "<class 'pandas.core.frame.DataFrame'>\n",
      "RangeIndex: 1893 entries, 0 to 1892\n",
      "Data columns (total 2 columns):\n",
      " #   Column  Non-Null Count  Dtype \n",
      "---  ------  --------------  ----- \n",
      " 0   name    1812 non-null   object\n",
      " 1   from    1865 non-null   object\n",
      "dtypes: object(2)\n",
      "memory usage: 29.7+ KB\n"
     ]
    },
    {
     "data": {
      "text/html": [
       "<div>\n",
       "<style scoped>\n",
       "    .dataframe tbody tr th:only-of-type {\n",
       "        vertical-align: middle;\n",
       "    }\n",
       "\n",
       "    .dataframe tbody tr th {\n",
       "        vertical-align: top;\n",
       "    }\n",
       "\n",
       "    .dataframe thead th {\n",
       "        text-align: right;\n",
       "    }\n",
       "</style>\n",
       "<table border=\"1\" class=\"dataframe\">\n",
       "  <thead>\n",
       "    <tr style=\"text-align: right;\">\n",
       "      <th></th>\n",
       "      <th>name</th>\n",
       "      <th>from</th>\n",
       "    </tr>\n",
       "  </thead>\n",
       "  <tbody>\n",
       "    <tr>\n",
       "      <th>0</th>\n",
       "      <td>onceuponabento</td>\n",
       "      <td>litaloveslunch</td>\n",
       "    </tr>\n",
       "    <tr>\n",
       "      <th>1</th>\n",
       "      <td>lunchwithsebastian</td>\n",
       "      <td>lunch_obsessed</td>\n",
       "    </tr>\n",
       "    <tr>\n",
       "      <th>2</th>\n",
       "      <td>flavioportino</td>\n",
       "      <td>homecookingcollective</td>\n",
       "    </tr>\n",
       "    <tr>\n",
       "      <th>3</th>\n",
       "      <td>forevernomadssueandbaz</td>\n",
       "      <td>school_lunchbox_inspo</td>\n",
       "    </tr>\n",
       "    <tr>\n",
       "      <th>4</th>\n",
       "      <td>kitchenkathukutty</td>\n",
       "      <td>recipes</td>\n",
       "    </tr>\n",
       "  </tbody>\n",
       "</table>\n",
       "</div>"
      ],
      "text/plain": [
       "                     name                   from\n",
       "0          onceuponabento         litaloveslunch\n",
       "1      lunchwithsebastian         lunch_obsessed\n",
       "2           flavioportino  homecookingcollective\n",
       "3  forevernomadssueandbaz  school_lunchbox_inspo\n",
       "4       kitchenkathukutty                recipes"
      ]
     },
     "execution_count": 3,
     "metadata": {},
     "output_type": "execute_result"
    }
   ],
   "source": [
    "like.info()\n",
    "like.head()"
   ]
  },
  {
   "cell_type": "code",
   "execution_count": 4,
   "metadata": {},
   "outputs": [
    {
     "data": {
      "text/html": [
       "<div>\n",
       "<style scoped>\n",
       "    .dataframe tbody tr th:only-of-type {\n",
       "        vertical-align: middle;\n",
       "    }\n",
       "\n",
       "    .dataframe tbody tr th {\n",
       "        vertical-align: top;\n",
       "    }\n",
       "\n",
       "    .dataframe thead th {\n",
       "        text-align: right;\n",
       "    }\n",
       "</style>\n",
       "<table border=\"1\" class=\"dataframe\">\n",
       "  <thead>\n",
       "    <tr style=\"text-align: right;\">\n",
       "      <th></th>\n",
       "      <th>name</th>\n",
       "      <th>from</th>\n",
       "    </tr>\n",
       "  </thead>\n",
       "  <tbody>\n",
       "    <tr>\n",
       "      <th>0</th>\n",
       "      <td>onceuponabento</td>\n",
       "      <td>litaloveslunch</td>\n",
       "    </tr>\n",
       "    <tr>\n",
       "      <th>1</th>\n",
       "      <td>lunchwithsebastian</td>\n",
       "      <td>lunch_obsessed</td>\n",
       "    </tr>\n",
       "    <tr>\n",
       "      <th>2</th>\n",
       "      <td>flavioportino</td>\n",
       "      <td>homecookingcollective</td>\n",
       "    </tr>\n",
       "    <tr>\n",
       "      <th>3</th>\n",
       "      <td>forevernomadssueandbaz</td>\n",
       "      <td>school_lunchbox_inspo</td>\n",
       "    </tr>\n",
       "    <tr>\n",
       "      <th>4</th>\n",
       "      <td>kitchenkathukutty</td>\n",
       "      <td>recipes</td>\n",
       "    </tr>\n",
       "    <tr>\n",
       "      <th>5</th>\n",
       "      <td>busypeopleeat</td>\n",
       "      <td>bentoboxlunch</td>\n",
       "    </tr>\n",
       "    <tr>\n",
       "      <th>6</th>\n",
       "      <td>mtneborailwaycarriage</td>\n",
       "      <td>thatlunchboxmom</td>\n",
       "    </tr>\n",
       "    <tr>\n",
       "      <th>7</th>\n",
       "      <td>joshi.anuja24</td>\n",
       "      <td>recipeoftheday</td>\n",
       "    </tr>\n",
       "    <tr>\n",
       "      <th>8</th>\n",
       "      <td>ilovelunches</td>\n",
       "      <td>lunch_obsessed</td>\n",
       "    </tr>\n",
       "    <tr>\n",
       "      <th>9</th>\n",
       "      <td>true_california</td>\n",
       "      <td>homecookingcollective</td>\n",
       "    </tr>\n",
       "  </tbody>\n",
       "</table>\n",
       "</div>"
      ],
      "text/plain": [
       "                     name                   from\n",
       "0          onceuponabento         litaloveslunch\n",
       "1      lunchwithsebastian         lunch_obsessed\n",
       "2           flavioportino  homecookingcollective\n",
       "3  forevernomadssueandbaz  school_lunchbox_inspo\n",
       "4       kitchenkathukutty                recipes\n",
       "5           busypeopleeat          bentoboxlunch\n",
       "6   mtneborailwaycarriage        thatlunchboxmom\n",
       "7           joshi.anuja24         recipeoftheday\n",
       "8            ilovelunches         lunch_obsessed\n",
       "9         true_california  homecookingcollective"
      ]
     },
     "execution_count": 4,
     "metadata": {},
     "output_type": "execute_result"
    },
    {
     "name": "stdout",
     "output_type": "stream",
     "text": [
      "<class 'pandas.core.frame.DataFrame'>\n",
      "Int64Index: 1807 entries, 0 to 1892\n",
      "Data columns (total 2 columns):\n",
      " #   Column  Non-Null Count  Dtype \n",
      "---  ------  --------------  ----- \n",
      " 0   name    1807 non-null   object\n",
      " 1   from    1807 non-null   object\n",
      "dtypes: object(2)\n",
      "memory usage: 42.4+ KB\n"
     ]
    }
   ],
   "source": [
    "like = like.dropna(axis=0,how='any')\n",
    "like.head(10)\n",
    "like.info()"
   ]
  },
  {
   "cell_type": "code",
   "execution_count": 5,
   "metadata": {},
   "outputs": [
    {
     "data": {
      "text/plain": [
       "636"
      ]
     },
     "execution_count": 5,
     "metadata": {},
     "output_type": "execute_result"
    }
   ],
   "source": [
    "len(np.unique(like['name']))"
   ]
  },
  {
   "cell_type": "code",
   "execution_count": 6,
   "metadata": {
    "scrolled": true
   },
   "outputs": [
    {
     "name": "stdout",
     "output_type": "stream",
     "text": [
      "                               name                     from\n",
      "20                brookes_fun_bento    chrisnicol_lunchboxes\n",
      "31                       grubgrub23          thatlunchboxmom\n",
      "44                       grubgrub23          thatlunchboxmom\n",
      "48           kiddiefoodieadventures               lunchideas\n",
      "61    jenny_loves_cooking_n_fashion  fortheloveof_lunchboxes\n",
      "...                             ...                      ...\n",
      "1886               stephmichelle123  fortheloveof_lunchboxes\n",
      "1887                     laura_bruj             tavvakitchen\n",
      "1890                  the.bluebento    chrisnicol_lunchboxes\n",
      "1891                         941srq          thatlunchboxmom\n",
      "1892         kiddiefoodieadventures  fortheloveof_lunchboxes\n",
      "\n",
      "[1171 rows x 2 columns]\n"
     ]
    }
   ],
   "source": [
    "print(like[like[\"name\"].duplicated()])"
   ]
  },
  {
   "cell_type": "code",
   "execution_count": 7,
   "metadata": {},
   "outputs": [],
   "source": [
    "df=like['name'].value_counts()\n",
    "df=df.to_frame()\n",
    "df = df.reset_index()\n",
    "df.columns = ['name','likes']\n",
    "#df.head()"
   ]
  },
  {
   "cell_type": "code",
   "execution_count": 8,
   "metadata": {},
   "outputs": [
    {
     "data": {
      "text/html": [
       "<div>\n",
       "<style scoped>\n",
       "    .dataframe tbody tr th:only-of-type {\n",
       "        vertical-align: middle;\n",
       "    }\n",
       "\n",
       "    .dataframe tbody tr th {\n",
       "        vertical-align: top;\n",
       "    }\n",
       "\n",
       "    .dataframe thead th {\n",
       "        text-align: right;\n",
       "    }\n",
       "</style>\n",
       "<table border=\"1\" class=\"dataframe\">\n",
       "  <thead>\n",
       "    <tr style=\"text-align: right;\">\n",
       "      <th></th>\n",
       "      <th>name</th>\n",
       "      <th>likes</th>\n",
       "    </tr>\n",
       "  </thead>\n",
       "  <tbody>\n",
       "    <tr>\n",
       "      <th>0</th>\n",
       "      <td>kiddiefoodieadventures</td>\n",
       "      <td>23</td>\n",
       "    </tr>\n",
       "    <tr>\n",
       "      <th>1</th>\n",
       "      <td>lunchlifemama</td>\n",
       "      <td>20</td>\n",
       "    </tr>\n",
       "    <tr>\n",
       "      <th>2</th>\n",
       "      <td>teukoapp</td>\n",
       "      <td>19</td>\n",
       "    </tr>\n",
       "    <tr>\n",
       "      <th>3</th>\n",
       "      <td>mycutiesfunfoods</td>\n",
       "      <td>17</td>\n",
       "    </tr>\n",
       "    <tr>\n",
       "      <th>4</th>\n",
       "      <td>mybento_aus</td>\n",
       "      <td>17</td>\n",
       "    </tr>\n",
       "  </tbody>\n",
       "</table>\n",
       "</div>"
      ],
      "text/plain": [
       "                     name  likes\n",
       "0  kiddiefoodieadventures     23\n",
       "1           lunchlifemama     20\n",
       "2                teukoapp     19\n",
       "3        mycutiesfunfoods     17\n",
       "4             mybento_aus     17"
      ]
     },
     "execution_count": 8,
     "metadata": {},
     "output_type": "execute_result"
    }
   ],
   "source": [
    "df.head()"
   ]
  },
  {
   "cell_type": "code",
   "execution_count": 9,
   "metadata": {},
   "outputs": [
    {
     "data": {
      "text/html": [
       "<div>\n",
       "<style scoped>\n",
       "    .dataframe tbody tr th:only-of-type {\n",
       "        vertical-align: middle;\n",
       "    }\n",
       "\n",
       "    .dataframe tbody tr th {\n",
       "        vertical-align: top;\n",
       "    }\n",
       "\n",
       "    .dataframe thead th {\n",
       "        text-align: right;\n",
       "    }\n",
       "</style>\n",
       "<table border=\"1\" class=\"dataframe\">\n",
       "  <thead>\n",
       "    <tr style=\"text-align: right;\">\n",
       "      <th></th>\n",
       "      <th>name</th>\n",
       "      <th>from</th>\n",
       "      <th>likes</th>\n",
       "    </tr>\n",
       "  </thead>\n",
       "  <tbody>\n",
       "    <tr>\n",
       "      <th>0</th>\n",
       "      <td>onceuponabento</td>\n",
       "      <td>litaloveslunch</td>\n",
       "      <td>6</td>\n",
       "    </tr>\n",
       "    <tr>\n",
       "      <th>1</th>\n",
       "      <td>onceuponabento</td>\n",
       "      <td>litaloveslunch</td>\n",
       "      <td>6</td>\n",
       "    </tr>\n",
       "    <tr>\n",
       "      <th>2</th>\n",
       "      <td>onceuponabento</td>\n",
       "      <td>litaloveslunch</td>\n",
       "      <td>6</td>\n",
       "    </tr>\n",
       "    <tr>\n",
       "      <th>3</th>\n",
       "      <td>onceuponabento</td>\n",
       "      <td>litaloveslunch</td>\n",
       "      <td>6</td>\n",
       "    </tr>\n",
       "    <tr>\n",
       "      <th>4</th>\n",
       "      <td>onceuponabento</td>\n",
       "      <td>litaloveslunch</td>\n",
       "      <td>6</td>\n",
       "    </tr>\n",
       "  </tbody>\n",
       "</table>\n",
       "</div>"
      ],
      "text/plain": [
       "             name            from  likes\n",
       "0  onceuponabento  litaloveslunch      6\n",
       "1  onceuponabento  litaloveslunch      6\n",
       "2  onceuponabento  litaloveslunch      6\n",
       "3  onceuponabento  litaloveslunch      6\n",
       "4  onceuponabento  litaloveslunch      6"
      ]
     },
     "execution_count": 9,
     "metadata": {},
     "output_type": "execute_result"
    }
   ],
   "source": [
    "like =pd.merge(like,df,on='name')\n",
    "like.head()"
   ]
  },
  {
   "cell_type": "code",
   "execution_count": 10,
   "metadata": {},
   "outputs": [
    {
     "data": {
      "text/html": [
       "<div>\n",
       "<style scoped>\n",
       "    .dataframe tbody tr th:only-of-type {\n",
       "        vertical-align: middle;\n",
       "    }\n",
       "\n",
       "    .dataframe tbody tr th {\n",
       "        vertical-align: top;\n",
       "    }\n",
       "\n",
       "    .dataframe thead th {\n",
       "        text-align: right;\n",
       "    }\n",
       "</style>\n",
       "<table border=\"1\" class=\"dataframe\">\n",
       "  <thead>\n",
       "    <tr style=\"text-align: right;\">\n",
       "      <th></th>\n",
       "      <th>name</th>\n",
       "      <th>from</th>\n",
       "      <th>likes</th>\n",
       "    </tr>\n",
       "  </thead>\n",
       "  <tbody>\n",
       "    <tr>\n",
       "      <th>0</th>\n",
       "      <td>onceuponabento</td>\n",
       "      <td>litaloveslunch</td>\n",
       "      <td>6</td>\n",
       "    </tr>\n",
       "    <tr>\n",
       "      <th>6</th>\n",
       "      <td>lunchwithsebastian</td>\n",
       "      <td>lunch_obsessed</td>\n",
       "      <td>12</td>\n",
       "    </tr>\n",
       "    <tr>\n",
       "      <th>18</th>\n",
       "      <td>flavioportino</td>\n",
       "      <td>homecookingcollective</td>\n",
       "      <td>9</td>\n",
       "    </tr>\n",
       "    <tr>\n",
       "      <th>27</th>\n",
       "      <td>forevernomadssueandbaz</td>\n",
       "      <td>school_lunchbox_inspo</td>\n",
       "      <td>8</td>\n",
       "    </tr>\n",
       "    <tr>\n",
       "      <th>35</th>\n",
       "      <td>kitchenkathukutty</td>\n",
       "      <td>recipes</td>\n",
       "      <td>1</td>\n",
       "    </tr>\n",
       "  </tbody>\n",
       "</table>\n",
       "</div>"
      ],
      "text/plain": [
       "                      name                   from  likes\n",
       "0           onceuponabento         litaloveslunch      6\n",
       "6       lunchwithsebastian         lunch_obsessed     12\n",
       "18           flavioportino  homecookingcollective      9\n",
       "27  forevernomadssueandbaz  school_lunchbox_inspo      8\n",
       "35       kitchenkathukutty                recipes      1"
      ]
     },
     "execution_count": 10,
     "metadata": {},
     "output_type": "execute_result"
    }
   ],
   "source": [
    "like = like.drop_duplicates('name', keep='first')\n",
    "like.head()"
   ]
  },
  {
   "cell_type": "code",
   "execution_count": 11,
   "metadata": {},
   "outputs": [
    {
     "data": {
      "text/html": [
       "<div>\n",
       "<style scoped>\n",
       "    .dataframe tbody tr th:only-of-type {\n",
       "        vertical-align: middle;\n",
       "    }\n",
       "\n",
       "    .dataframe tbody tr th {\n",
       "        vertical-align: top;\n",
       "    }\n",
       "\n",
       "    .dataframe thead th {\n",
       "        text-align: right;\n",
       "    }\n",
       "</style>\n",
       "<table border=\"1\" class=\"dataframe\">\n",
       "  <thead>\n",
       "    <tr style=\"text-align: right;\">\n",
       "      <th></th>\n",
       "      <th>name</th>\n",
       "      <th>from</th>\n",
       "      <th>likes</th>\n",
       "      <th>follow</th>\n",
       "    </tr>\n",
       "  </thead>\n",
       "  <tbody>\n",
       "    <tr>\n",
       "      <th>0</th>\n",
       "      <td>onceuponabento</td>\n",
       "      <td>litaloveslunch</td>\n",
       "      <td>6</td>\n",
       "      <td>0</td>\n",
       "    </tr>\n",
       "    <tr>\n",
       "      <th>6</th>\n",
       "      <td>lunchwithsebastian</td>\n",
       "      <td>lunch_obsessed</td>\n",
       "      <td>12</td>\n",
       "      <td>0</td>\n",
       "    </tr>\n",
       "    <tr>\n",
       "      <th>18</th>\n",
       "      <td>flavioportino</td>\n",
       "      <td>homecookingcollective</td>\n",
       "      <td>9</td>\n",
       "      <td>0</td>\n",
       "    </tr>\n",
       "    <tr>\n",
       "      <th>27</th>\n",
       "      <td>forevernomadssueandbaz</td>\n",
       "      <td>school_lunchbox_inspo</td>\n",
       "      <td>8</td>\n",
       "      <td>0</td>\n",
       "    </tr>\n",
       "    <tr>\n",
       "      <th>35</th>\n",
       "      <td>kitchenkathukutty</td>\n",
       "      <td>recipes</td>\n",
       "      <td>1</td>\n",
       "      <td>0</td>\n",
       "    </tr>\n",
       "  </tbody>\n",
       "</table>\n",
       "</div>"
      ],
      "text/plain": [
       "                      name                   from  likes  follow\n",
       "0           onceuponabento         litaloveslunch      6       0\n",
       "6       lunchwithsebastian         lunch_obsessed     12       0\n",
       "18           flavioportino  homecookingcollective      9       0\n",
       "27  forevernomadssueandbaz  school_lunchbox_inspo      8       0\n",
       "35       kitchenkathukutty                recipes      1       0"
      ]
     },
     "execution_count": 11,
     "metadata": {},
     "output_type": "execute_result"
    }
   ],
   "source": [
    "like['follow'] = 0\n",
    "like.head()"
   ]
  },
  {
   "cell_type": "code",
   "execution_count": 12,
   "metadata": {},
   "outputs": [
    {
     "name": "stdout",
     "output_type": "stream",
     "text": [
      "<class 'pandas.core.frame.DataFrame'>\n",
      "Int64Index: 636 entries, 0 to 1806\n",
      "Data columns (total 4 columns):\n",
      " #   Column  Non-Null Count  Dtype \n",
      "---  ------  --------------  ----- \n",
      " 0   name    636 non-null    object\n",
      " 1   from    636 non-null    object\n",
      " 2   likes   636 non-null    int64 \n",
      " 3   follow  636 non-null    int64 \n",
      "dtypes: int64(2), object(2)\n",
      "memory usage: 24.8+ KB\n"
     ]
    }
   ],
   "source": [
    "like.info()"
   ]
  },
  {
   "cell_type": "code",
   "execution_count": 13,
   "metadata": {},
   "outputs": [
    {
     "name": "stdout",
     "output_type": "stream",
     "text": [
      "<class 'pandas.core.frame.DataFrame'>\n",
      "RangeIndex: 1220 entries, 0 to 1219\n",
      "Data columns (total 3 columns):\n",
      " #   Column  Non-Null Count  Dtype \n",
      "---  ------  --------------  ----- \n",
      " 0   from    1220 non-null   object\n",
      " 1   likes   496 non-null    object\n",
      " 2   name    1220 non-null   object\n",
      "dtypes: object(3)\n",
      "memory usage: 28.7+ KB\n"
     ]
    },
    {
     "data": {
      "text/html": [
       "<div>\n",
       "<style scoped>\n",
       "    .dataframe tbody tr th:only-of-type {\n",
       "        vertical-align: middle;\n",
       "    }\n",
       "\n",
       "    .dataframe tbody tr th {\n",
       "        vertical-align: top;\n",
       "    }\n",
       "\n",
       "    .dataframe thead th {\n",
       "        text-align: right;\n",
       "    }\n",
       "</style>\n",
       "<table border=\"1\" class=\"dataframe\">\n",
       "  <thead>\n",
       "    <tr style=\"text-align: right;\">\n",
       "      <th></th>\n",
       "      <th>from</th>\n",
       "      <th>likes</th>\n",
       "      <th>name</th>\n",
       "    </tr>\n",
       "  </thead>\n",
       "  <tbody>\n",
       "    <tr>\n",
       "      <th>0</th>\n",
       "      <td>homeschoollunchtime</td>\n",
       "      <td>NaN</td>\n",
       "      <td>lynn9823</td>\n",
       "    </tr>\n",
       "    <tr>\n",
       "      <th>1</th>\n",
       "      <td>bento_box_lunches</td>\n",
       "      <td>NaN</td>\n",
       "      <td>sunshine_and_sandwiches</td>\n",
       "    </tr>\n",
       "    <tr>\n",
       "      <th>2</th>\n",
       "      <td>foodfitforkids</td>\n",
       "      <td>NaN</td>\n",
       "      <td>fauxmoccs</td>\n",
       "    </tr>\n",
       "    <tr>\n",
       "      <th>3</th>\n",
       "      <td>bento_box_lunches</td>\n",
       "      <td>NaN</td>\n",
       "      <td>tiffaneyfrancis1969</td>\n",
       "    </tr>\n",
       "    <tr>\n",
       "      <th>4</th>\n",
       "      <td>lunch_ideasforkids</td>\n",
       "      <td>NaN</td>\n",
       "      <td>malunchboxdujour</td>\n",
       "    </tr>\n",
       "  </tbody>\n",
       "</table>\n",
       "</div>"
      ],
      "text/plain": [
       "                  from likes                     name\n",
       "0  homeschoollunchtime   NaN                 lynn9823\n",
       "1    bento_box_lunches   NaN  sunshine_and_sandwiches\n",
       "2       foodfitforkids   NaN                fauxmoccs\n",
       "3    bento_box_lunches   NaN      tiffaneyfrancis1969\n",
       "4   lunch_ideasforkids   NaN         malunchboxdujour"
      ]
     },
     "execution_count": 13,
     "metadata": {},
     "output_type": "execute_result"
    }
   ],
   "source": [
    "followlike.info()\n",
    "followlike.head()"
   ]
  },
  {
   "cell_type": "code",
   "execution_count": 14,
   "metadata": {},
   "outputs": [
    {
     "data": {
      "text/plain": [
       "1220"
      ]
     },
     "execution_count": 14,
     "metadata": {},
     "output_type": "execute_result"
    }
   ],
   "source": [
    "len(np.unique(followlike['name']))"
   ]
  },
  {
   "cell_type": "code",
   "execution_count": 15,
   "metadata": {},
   "outputs": [],
   "source": [
    "followlike = followlike.replace('2 likes', 2) \n",
    "followlike = followlike.replace('1 like', 1) \n",
    "followlike = followlike.fillna(value=0)"
   ]
  },
  {
   "cell_type": "code",
   "execution_count": 16,
   "metadata": {},
   "outputs": [],
   "source": [
    "followlike['follow'] = 1"
   ]
  },
  {
   "cell_type": "code",
   "execution_count": 17,
   "metadata": {},
   "outputs": [
    {
     "data": {
      "text/html": [
       "<div>\n",
       "<style scoped>\n",
       "    .dataframe tbody tr th:only-of-type {\n",
       "        vertical-align: middle;\n",
       "    }\n",
       "\n",
       "    .dataframe tbody tr th {\n",
       "        vertical-align: top;\n",
       "    }\n",
       "\n",
       "    .dataframe thead th {\n",
       "        text-align: right;\n",
       "    }\n",
       "</style>\n",
       "<table border=\"1\" class=\"dataframe\">\n",
       "  <thead>\n",
       "    <tr style=\"text-align: right;\">\n",
       "      <th></th>\n",
       "      <th>from</th>\n",
       "      <th>likes</th>\n",
       "      <th>name</th>\n",
       "      <th>follow</th>\n",
       "    </tr>\n",
       "  </thead>\n",
       "  <tbody>\n",
       "    <tr>\n",
       "      <th>0</th>\n",
       "      <td>homeschoollunchtime</td>\n",
       "      <td>0.0</td>\n",
       "      <td>lynn9823</td>\n",
       "      <td>1</td>\n",
       "    </tr>\n",
       "    <tr>\n",
       "      <th>1</th>\n",
       "      <td>bento_box_lunches</td>\n",
       "      <td>0.0</td>\n",
       "      <td>sunshine_and_sandwiches</td>\n",
       "      <td>1</td>\n",
       "    </tr>\n",
       "    <tr>\n",
       "      <th>2</th>\n",
       "      <td>foodfitforkids</td>\n",
       "      <td>0.0</td>\n",
       "      <td>fauxmoccs</td>\n",
       "      <td>1</td>\n",
       "    </tr>\n",
       "    <tr>\n",
       "      <th>3</th>\n",
       "      <td>bento_box_lunches</td>\n",
       "      <td>0.0</td>\n",
       "      <td>tiffaneyfrancis1969</td>\n",
       "      <td>1</td>\n",
       "    </tr>\n",
       "    <tr>\n",
       "      <th>4</th>\n",
       "      <td>lunch_ideasforkids</td>\n",
       "      <td>0.0</td>\n",
       "      <td>malunchboxdujour</td>\n",
       "      <td>1</td>\n",
       "    </tr>\n",
       "  </tbody>\n",
       "</table>\n",
       "</div>"
      ],
      "text/plain": [
       "                  from  likes                     name  follow\n",
       "0  homeschoollunchtime    0.0                 lynn9823       1\n",
       "1    bento_box_lunches    0.0  sunshine_and_sandwiches       1\n",
       "2       foodfitforkids    0.0                fauxmoccs       1\n",
       "3    bento_box_lunches    0.0      tiffaneyfrancis1969       1\n",
       "4   lunch_ideasforkids    0.0         malunchboxdujour       1"
      ]
     },
     "execution_count": 17,
     "metadata": {},
     "output_type": "execute_result"
    }
   ],
   "source": [
    "followlike.head()"
   ]
  },
  {
   "cell_type": "code",
   "execution_count": 18,
   "metadata": {
    "scrolled": true
   },
   "outputs": [
    {
     "name": "stdout",
     "output_type": "stream",
     "text": [
      "lunch_ideasforkids         127\n",
      "bento_box_lunches           94\n",
      "bentolunchboxmums           92\n",
      "bentoboxforkids             87\n",
      "es_lunchbox                 84\n",
      "kids_food_inspo             83\n",
      "homeschoollunchtime         74\n",
      "pickyhealthylunchbox        72\n",
      "cleaneatmagz                72\n",
      "pascalestable               72\n",
      "the_greedy_ginger           66\n",
      "foodfitforkids              57\n",
      "bento_lunch_uk              57\n",
      "moniquecormacknutrition     57\n",
      "brookes_fun_bento           50\n",
      "yummy_umami                 45\n",
      "familyhomecook              31\n",
      "Name: from, dtype: int64\n"
     ]
    }
   ],
   "source": [
    "print(followlike['from'].value_counts())"
   ]
  },
  {
   "cell_type": "code",
   "execution_count": 19,
   "metadata": {},
   "outputs": [
    {
     "name": "stdout",
     "output_type": "stream",
     "text": [
      "healthyrecipes             68\n",
      "bentoboxlunch              62\n",
      "lunchinspo                 59\n",
      "recipeideas                50\n",
      "recipeoftheday             50\n",
      "recipes                    49\n",
      "lunchbox                   47\n",
      "lunchideas                 44\n",
      "homecookingcollective      38\n",
      "thatlunchboxmom            30\n",
      "lunchboxinspiration        28\n",
      "lunch_obsessed             26\n",
      "fortheloveof_lunchboxes    24\n",
      "chrisnicol_lunchboxes      21\n",
      "tavvakitchen               10\n",
      "school_lunchbox_inspo      10\n",
      "bento_box_lunches          10\n",
      "litaloveslunch             10\n",
      "Name: from, dtype: int64\n"
     ]
    }
   ],
   "source": [
    "print(like['from'].value_counts())"
   ]
  },
  {
   "cell_type": "code",
   "execution_count": 20,
   "metadata": {},
   "outputs": [],
   "source": [
    "merge = followlike.append(like)"
   ]
  },
  {
   "cell_type": "code",
   "execution_count": 21,
   "metadata": {},
   "outputs": [
    {
     "name": "stdout",
     "output_type": "stream",
     "text": [
      "<class 'pandas.core.frame.DataFrame'>\n",
      "Int64Index: 1856 entries, 0 to 1806\n",
      "Data columns (total 4 columns):\n",
      " #   Column  Non-Null Count  Dtype  \n",
      "---  ------  --------------  -----  \n",
      " 0   from    1856 non-null   object \n",
      " 1   likes   1856 non-null   float64\n",
      " 2   name    1856 non-null   object \n",
      " 3   follow  1856 non-null   int64  \n",
      "dtypes: float64(1), int64(1), object(2)\n",
      "memory usage: 72.5+ KB\n"
     ]
    },
    {
     "data": {
      "text/html": [
       "<div>\n",
       "<style scoped>\n",
       "    .dataframe tbody tr th:only-of-type {\n",
       "        vertical-align: middle;\n",
       "    }\n",
       "\n",
       "    .dataframe tbody tr th {\n",
       "        vertical-align: top;\n",
       "    }\n",
       "\n",
       "    .dataframe thead th {\n",
       "        text-align: right;\n",
       "    }\n",
       "</style>\n",
       "<table border=\"1\" class=\"dataframe\">\n",
       "  <thead>\n",
       "    <tr style=\"text-align: right;\">\n",
       "      <th></th>\n",
       "      <th>from</th>\n",
       "      <th>likes</th>\n",
       "      <th>name</th>\n",
       "      <th>follow</th>\n",
       "    </tr>\n",
       "  </thead>\n",
       "  <tbody>\n",
       "    <tr>\n",
       "      <th>0</th>\n",
       "      <td>homeschoollunchtime</td>\n",
       "      <td>0.0</td>\n",
       "      <td>lynn9823</td>\n",
       "      <td>1</td>\n",
       "    </tr>\n",
       "    <tr>\n",
       "      <th>1</th>\n",
       "      <td>bento_box_lunches</td>\n",
       "      <td>0.0</td>\n",
       "      <td>sunshine_and_sandwiches</td>\n",
       "      <td>1</td>\n",
       "    </tr>\n",
       "    <tr>\n",
       "      <th>2</th>\n",
       "      <td>foodfitforkids</td>\n",
       "      <td>0.0</td>\n",
       "      <td>fauxmoccs</td>\n",
       "      <td>1</td>\n",
       "    </tr>\n",
       "    <tr>\n",
       "      <th>3</th>\n",
       "      <td>bento_box_lunches</td>\n",
       "      <td>0.0</td>\n",
       "      <td>tiffaneyfrancis1969</td>\n",
       "      <td>1</td>\n",
       "    </tr>\n",
       "    <tr>\n",
       "      <th>4</th>\n",
       "      <td>lunch_ideasforkids</td>\n",
       "      <td>0.0</td>\n",
       "      <td>malunchboxdujour</td>\n",
       "      <td>1</td>\n",
       "    </tr>\n",
       "  </tbody>\n",
       "</table>\n",
       "</div>"
      ],
      "text/plain": [
       "                  from  likes                     name  follow\n",
       "0  homeschoollunchtime    0.0                 lynn9823       1\n",
       "1    bento_box_lunches    0.0  sunshine_and_sandwiches       1\n",
       "2       foodfitforkids    0.0                fauxmoccs       1\n",
       "3    bento_box_lunches    0.0      tiffaneyfrancis1969       1\n",
       "4   lunch_ideasforkids    0.0         malunchboxdujour       1"
      ]
     },
     "execution_count": 21,
     "metadata": {},
     "output_type": "execute_result"
    }
   ],
   "source": [
    "merge.info()\n",
    "merge.head()"
   ]
  },
  {
   "cell_type": "code",
   "execution_count": 22,
   "metadata": {},
   "outputs": [
    {
     "data": {
      "text/html": [
       "<div>\n",
       "<style scoped>\n",
       "    .dataframe tbody tr th:only-of-type {\n",
       "        vertical-align: middle;\n",
       "    }\n",
       "\n",
       "    .dataframe tbody tr th {\n",
       "        vertical-align: top;\n",
       "    }\n",
       "\n",
       "    .dataframe thead th {\n",
       "        text-align: right;\n",
       "    }\n",
       "</style>\n",
       "<table border=\"1\" class=\"dataframe\">\n",
       "  <thead>\n",
       "    <tr style=\"text-align: right;\">\n",
       "      <th></th>\n",
       "      <th>from</th>\n",
       "      <th>likes</th>\n",
       "      <th>name</th>\n",
       "      <th>follow</th>\n",
       "    </tr>\n",
       "  </thead>\n",
       "  <tbody>\n",
       "    <tr>\n",
       "      <th>0</th>\n",
       "      <td>homeschoollunchtime</td>\n",
       "      <td>0.0</td>\n",
       "      <td>lynn9823</td>\n",
       "      <td>1</td>\n",
       "    </tr>\n",
       "    <tr>\n",
       "      <th>1</th>\n",
       "      <td>bento_box_lunches</td>\n",
       "      <td>0.0</td>\n",
       "      <td>sunshine_and_sandwiches</td>\n",
       "      <td>1</td>\n",
       "    </tr>\n",
       "    <tr>\n",
       "      <th>2</th>\n",
       "      <td>foodfitforkids</td>\n",
       "      <td>0.0</td>\n",
       "      <td>fauxmoccs</td>\n",
       "      <td>1</td>\n",
       "    </tr>\n",
       "    <tr>\n",
       "      <th>3</th>\n",
       "      <td>bento_box_lunches</td>\n",
       "      <td>0.0</td>\n",
       "      <td>tiffaneyfrancis1969</td>\n",
       "      <td>1</td>\n",
       "    </tr>\n",
       "    <tr>\n",
       "      <th>4</th>\n",
       "      <td>lunch_ideasforkids</td>\n",
       "      <td>0.0</td>\n",
       "      <td>malunchboxdujour</td>\n",
       "      <td>1</td>\n",
       "    </tr>\n",
       "  </tbody>\n",
       "</table>\n",
       "</div>"
      ],
      "text/plain": [
       "                  from  likes                     name  follow\n",
       "0  homeschoollunchtime    0.0                 lynn9823       1\n",
       "1    bento_box_lunches    0.0  sunshine_and_sandwiches       1\n",
       "2       foodfitforkids    0.0                fauxmoccs       1\n",
       "3    bento_box_lunches    0.0      tiffaneyfrancis1969       1\n",
       "4   lunch_ideasforkids    0.0         malunchboxdujour       1"
      ]
     },
     "execution_count": 22,
     "metadata": {},
     "output_type": "execute_result"
    }
   ],
   "source": [
    "merge.head()"
   ]
  },
  {
   "cell_type": "code",
   "execution_count": 23,
   "metadata": {
    "scrolled": false
   },
   "outputs": [
    {
     "name": "stdout",
     "output_type": "stream",
     "text": [
      "                         from  likes                    name  follow\n",
      "0              litaloveslunch    6.0          onceuponabento       0\n",
      "6              lunch_obsessed   12.0      lunchwithsebastian       0\n",
      "43             lunch_obsessed    4.0            ilovelunches       0\n",
      "132   fortheloveof_lunchboxes    5.0                rca_made       0\n",
      "149                lunchinspo    1.0               momztries       0\n",
      "156            litaloveslunch   16.0          lunch_obsessed       0\n",
      "195   fortheloveof_lunchboxes    8.0   little_hungry_tummies       0\n",
      "203                lunchideas   23.0  kiddiefoodieadventures       0\n",
      "233            lunch_obsessed    8.0   naijacanadianbentomom       0\n",
      "241            lunch_obsessed   17.0         my.twinado.life       0\n",
      "258     chrisnicol_lunchboxes   16.0   school_lunchbox_inspo       0\n",
      "298   fortheloveof_lunchboxes    6.0          michellej_ayne       0\n",
      "319            lunch_obsessed   17.0             mybento_aus       0\n",
      "349            lunch_obsessed    8.0              meggles429       0\n",
      "357     chrisnicol_lunchboxes   20.0           lunchlifemama       0\n",
      "384         bento_box_lunches    4.0             colddustgrl       0\n",
      "410            litaloveslunch   17.0        mycutiesfunfoods       0\n",
      "427            lunch_obsessed    9.0            mummytomkins       0\n",
      "444         bento_box_lunches    9.0          thebacontarian       0\n",
      "487         bento_box_lunches    5.0          the_plant_nerd       0\n",
      "501            lunch_obsessed    8.0        britishsausageco       0\n",
      "509         bento_box_lunches    9.0          the_slimanis21       0\n",
      "536            lunch_obsessed    5.0           fooda_ndsnack       0\n",
      "542     school_lunchbox_inspo    8.0                ma_ki813       0\n",
      "550     school_lunchbox_inspo   12.0           dailybread369       0\n",
      "567            lunch_obsessed    9.0     makinglittlelunches       0\n",
      "615   fortheloveof_lunchboxes    7.0               ibislunch       0\n",
      "623         bento_box_lunches    9.0        alisharicetattoo       0\n",
      "632            lunch_obsessed    8.0          bentokidslunch       0\n",
      "650   fortheloveof_lunchboxes    8.0                kidzprep       0\n",
      "683            litaloveslunch    5.0            grubsforbubs       0\n",
      "697   fortheloveof_lunchboxes   19.0                teukoapp       0\n",
      "716   fortheloveof_lunchboxes    6.0        evelyns_lunchbox       0\n",
      "722            lunch_obsessed    8.0     _apples_and_bananas       0\n",
      "736   fortheloveof_lunchboxes   14.0      simplebreakfastfun       0\n",
      "756     school_lunchbox_inspo    6.0           noahs.nibbles       0\n",
      "762   fortheloveof_lunchboxes    7.0         lunchboxforlulu       0\n",
      "770            lunch_obsessed    5.0         kai_and_lunches       0\n",
      "928   fortheloveof_lunchboxes    7.0     easy_familienkueche       0\n",
      "941   fortheloveof_lunchboxes    7.0         lynseys_lunches       0\n",
      "949     chrisnicol_lunchboxes   11.0               wearemtjl       0\n",
      "983            lunch_obsessed    9.0          bentojaponaise       0\n",
      "1014    school_lunchbox_inspo    5.0        madpakkemaskinen       0\n",
      "1020  fortheloveof_lunchboxes   14.0           lilaslunchbox       0\n",
      "1034        bento_box_lunches   14.0  moon_tast._millennials       0\n",
      "1086    chrisnicol_lunchboxes    7.0    obsessed_lunchboxmum       0\n",
      "1140    chrisnicol_lunchboxes    8.0    mythreelittlekittens       0\n",
      "1210           lunch_obsessed    9.0               yuanabout       0\n",
      "1221  fortheloveof_lunchboxes   15.0      seaweedsupermarket       0\n",
      "1253               lunchinspo    2.0        lunchesbywhitney       0\n",
      "1268               lunchinspo    7.0           lunchbox.envy       0\n",
      "1282            bentoboxlunch    1.0        malunchboxdujour       0\n",
      "1324        bento_box_lunches    9.0                boxcakez       0\n",
      "1372    chrisnicol_lunchboxes    5.0          imadethisbento       0\n",
      "1405               lunchinspo    3.0       mumma.lunch.inspo       0\n",
      "1408           litaloveslunch    5.0          beachouse.baby       0\n",
      "1421           litaloveslunch    4.0             munchi_kids       0\n",
      "1662           litaloveslunch    1.0         familylunchpack       0\n",
      "1734                 lunchbox    1.0           jonoslunchbox       0\n"
     ]
    }
   ],
   "source": [
    "print(merge[merge[\"name\"].duplicated()])"
   ]
  },
  {
   "cell_type": "code",
   "execution_count": 24,
   "metadata": {},
   "outputs": [
    {
     "data": {
      "text/html": [
       "<div>\n",
       "<style scoped>\n",
       "    .dataframe tbody tr th:only-of-type {\n",
       "        vertical-align: middle;\n",
       "    }\n",
       "\n",
       "    .dataframe tbody tr th {\n",
       "        vertical-align: top;\n",
       "    }\n",
       "\n",
       "    .dataframe thead th {\n",
       "        text-align: right;\n",
       "    }\n",
       "</style>\n",
       "<table border=\"1\" class=\"dataframe\">\n",
       "  <thead>\n",
       "    <tr style=\"text-align: right;\">\n",
       "      <th></th>\n",
       "      <th>name</th>\n",
       "    </tr>\n",
       "  </thead>\n",
       "  <tbody>\n",
       "    <tr>\n",
       "      <th>0</th>\n",
       "      <td>avah.o.isaac</td>\n",
       "    </tr>\n",
       "    <tr>\n",
       "      <th>1</th>\n",
       "      <td>i.jnourishlift</td>\n",
       "    </tr>\n",
       "    <tr>\n",
       "      <th>2</th>\n",
       "      <td>dineandrun</td>\n",
       "    </tr>\n",
       "    <tr>\n",
       "      <th>3</th>\n",
       "      <td>themamamaven</td>\n",
       "    </tr>\n",
       "    <tr>\n",
       "      <th>4</th>\n",
       "      <td>jessica.hanlon.official</td>\n",
       "    </tr>\n",
       "  </tbody>\n",
       "</table>\n",
       "</div>"
      ],
      "text/plain": [
       "                      name\n",
       "0             avah.o.isaac\n",
       "1           i.jnourishlift\n",
       "2               dineandrun\n",
       "3             themamamaven\n",
       "4  jessica.hanlon.official"
      ]
     },
     "execution_count": 24,
     "metadata": {},
     "output_type": "execute_result"
    }
   ],
   "source": [
    "followback.head()"
   ]
  },
  {
   "cell_type": "code",
   "execution_count": 25,
   "metadata": {},
   "outputs": [],
   "source": [
    "followback_id = list(followback['name'] )"
   ]
  },
  {
   "cell_type": "code",
   "execution_count": 26,
   "metadata": {},
   "outputs": [],
   "source": [
    "follow_back = []\n",
    "for i in merge['name']:\n",
    "    if i in followback_id:\n",
    "        follow_back.append(1)\n",
    "    else:\n",
    "        follow_back.append(0)\n",
    "arr = np.array(follow_back)\n",
    "merge['followback'] = arr"
   ]
  },
  {
   "cell_type": "code",
   "execution_count": 27,
   "metadata": {},
   "outputs": [
    {
     "name": "stdout",
     "output_type": "stream",
     "text": [
      "32\n"
     ]
    }
   ],
   "source": [
    "#calculate people who we didn't interact with but followed us\n",
    "Naturalfollower = 0\n",
    "merge_id = list(merge['name'] )\n",
    "for i in followback['name']:\n",
    "    if i not in merge_id:\n",
    "        Naturalfollower +=  1\n",
    "print(Naturalfollower)"
   ]
  },
  {
   "cell_type": "code",
   "execution_count": 28,
   "metadata": {},
   "outputs": [
    {
     "data": {
      "text/html": [
       "<div>\n",
       "<style scoped>\n",
       "    .dataframe tbody tr th:only-of-type {\n",
       "        vertical-align: middle;\n",
       "    }\n",
       "\n",
       "    .dataframe tbody tr th {\n",
       "        vertical-align: top;\n",
       "    }\n",
       "\n",
       "    .dataframe thead th {\n",
       "        text-align: right;\n",
       "    }\n",
       "</style>\n",
       "<table border=\"1\" class=\"dataframe\">\n",
       "  <thead>\n",
       "    <tr style=\"text-align: right;\">\n",
       "      <th></th>\n",
       "      <th>from</th>\n",
       "      <th>likes</th>\n",
       "      <th>name</th>\n",
       "      <th>follow</th>\n",
       "      <th>followback</th>\n",
       "    </tr>\n",
       "  </thead>\n",
       "  <tbody>\n",
       "    <tr>\n",
       "      <th>0</th>\n",
       "      <td>homeschoollunchtime</td>\n",
       "      <td>0.0</td>\n",
       "      <td>lynn9823</td>\n",
       "      <td>1</td>\n",
       "      <td>0</td>\n",
       "    </tr>\n",
       "    <tr>\n",
       "      <th>1</th>\n",
       "      <td>bento_box_lunches</td>\n",
       "      <td>0.0</td>\n",
       "      <td>sunshine_and_sandwiches</td>\n",
       "      <td>1</td>\n",
       "      <td>0</td>\n",
       "    </tr>\n",
       "    <tr>\n",
       "      <th>2</th>\n",
       "      <td>foodfitforkids</td>\n",
       "      <td>0.0</td>\n",
       "      <td>fauxmoccs</td>\n",
       "      <td>1</td>\n",
       "      <td>0</td>\n",
       "    </tr>\n",
       "    <tr>\n",
       "      <th>3</th>\n",
       "      <td>bento_box_lunches</td>\n",
       "      <td>0.0</td>\n",
       "      <td>tiffaneyfrancis1969</td>\n",
       "      <td>1</td>\n",
       "      <td>1</td>\n",
       "    </tr>\n",
       "    <tr>\n",
       "      <th>4</th>\n",
       "      <td>lunch_ideasforkids</td>\n",
       "      <td>0.0</td>\n",
       "      <td>malunchboxdujour</td>\n",
       "      <td>1</td>\n",
       "      <td>0</td>\n",
       "    </tr>\n",
       "    <tr>\n",
       "      <th>...</th>\n",
       "      <td>...</td>\n",
       "      <td>...</td>\n",
       "      <td>...</td>\n",
       "      <td>...</td>\n",
       "      <td>...</td>\n",
       "    </tr>\n",
       "    <tr>\n",
       "      <th>95</th>\n",
       "      <td>pickyhealthylunchbox</td>\n",
       "      <td>0.0</td>\n",
       "      <td>dmhyr</td>\n",
       "      <td>1</td>\n",
       "      <td>0</td>\n",
       "    </tr>\n",
       "    <tr>\n",
       "      <th>96</th>\n",
       "      <td>pascalestable</td>\n",
       "      <td>0.0</td>\n",
       "      <td>momoshares</td>\n",
       "      <td>1</td>\n",
       "      <td>0</td>\n",
       "    </tr>\n",
       "    <tr>\n",
       "      <th>97</th>\n",
       "      <td>cleaneatmagz</td>\n",
       "      <td>0.0</td>\n",
       "      <td>dee_macee</td>\n",
       "      <td>1</td>\n",
       "      <td>0</td>\n",
       "    </tr>\n",
       "    <tr>\n",
       "      <th>98</th>\n",
       "      <td>bento_lunch_uk</td>\n",
       "      <td>2.0</td>\n",
       "      <td>noahs.nibbles</td>\n",
       "      <td>1</td>\n",
       "      <td>0</td>\n",
       "    </tr>\n",
       "    <tr>\n",
       "      <th>99</th>\n",
       "      <td>es_lunchbox</td>\n",
       "      <td>0.0</td>\n",
       "      <td>rosie.lawlor</td>\n",
       "      <td>1</td>\n",
       "      <td>0</td>\n",
       "    </tr>\n",
       "  </tbody>\n",
       "</table>\n",
       "<p>100 rows × 5 columns</p>\n",
       "</div>"
      ],
      "text/plain": [
       "                    from  likes                     name  follow  followback\n",
       "0    homeschoollunchtime    0.0                 lynn9823       1           0\n",
       "1      bento_box_lunches    0.0  sunshine_and_sandwiches       1           0\n",
       "2         foodfitforkids    0.0                fauxmoccs       1           0\n",
       "3      bento_box_lunches    0.0      tiffaneyfrancis1969       1           1\n",
       "4     lunch_ideasforkids    0.0         malunchboxdujour       1           0\n",
       "..                   ...    ...                      ...     ...         ...\n",
       "95  pickyhealthylunchbox    0.0                    dmhyr       1           0\n",
       "96         pascalestable    0.0               momoshares       1           0\n",
       "97          cleaneatmagz    0.0                dee_macee       1           0\n",
       "98        bento_lunch_uk    2.0            noahs.nibbles       1           0\n",
       "99           es_lunchbox    0.0             rosie.lawlor       1           0\n",
       "\n",
       "[100 rows x 5 columns]"
      ]
     },
     "execution_count": 28,
     "metadata": {},
     "output_type": "execute_result"
    }
   ],
   "source": [
    "merge.head(100)"
   ]
  },
  {
   "cell_type": "code",
   "execution_count": 29,
   "metadata": {
    "scrolled": false
   },
   "outputs": [
    {
     "name": "stdout",
     "output_type": "stream",
     "text": [
      "                         from  likes                    name  follow  \\\n",
      "0              litaloveslunch    6.0          onceuponabento       0   \n",
      "6              lunch_obsessed   12.0      lunchwithsebastian       0   \n",
      "43             lunch_obsessed    4.0            ilovelunches       0   \n",
      "132   fortheloveof_lunchboxes    5.0                rca_made       0   \n",
      "149                lunchinspo    1.0               momztries       0   \n",
      "156            litaloveslunch   16.0          lunch_obsessed       0   \n",
      "195   fortheloveof_lunchboxes    8.0   little_hungry_tummies       0   \n",
      "203                lunchideas   23.0  kiddiefoodieadventures       0   \n",
      "233            lunch_obsessed    8.0   naijacanadianbentomom       0   \n",
      "241            lunch_obsessed   17.0         my.twinado.life       0   \n",
      "258     chrisnicol_lunchboxes   16.0   school_lunchbox_inspo       0   \n",
      "298   fortheloveof_lunchboxes    6.0          michellej_ayne       0   \n",
      "319            lunch_obsessed   17.0             mybento_aus       0   \n",
      "349            lunch_obsessed    8.0              meggles429       0   \n",
      "357     chrisnicol_lunchboxes   20.0           lunchlifemama       0   \n",
      "384         bento_box_lunches    4.0             colddustgrl       0   \n",
      "410            litaloveslunch   17.0        mycutiesfunfoods       0   \n",
      "427            lunch_obsessed    9.0            mummytomkins       0   \n",
      "444         bento_box_lunches    9.0          thebacontarian       0   \n",
      "487         bento_box_lunches    5.0          the_plant_nerd       0   \n",
      "501            lunch_obsessed    8.0        britishsausageco       0   \n",
      "509         bento_box_lunches    9.0          the_slimanis21       0   \n",
      "536            lunch_obsessed    5.0           fooda_ndsnack       0   \n",
      "542     school_lunchbox_inspo    8.0                ma_ki813       0   \n",
      "550     school_lunchbox_inspo   12.0           dailybread369       0   \n",
      "567            lunch_obsessed    9.0     makinglittlelunches       0   \n",
      "615   fortheloveof_lunchboxes    7.0               ibislunch       0   \n",
      "623         bento_box_lunches    9.0        alisharicetattoo       0   \n",
      "632            lunch_obsessed    8.0          bentokidslunch       0   \n",
      "650   fortheloveof_lunchboxes    8.0                kidzprep       0   \n",
      "683            litaloveslunch    5.0            grubsforbubs       0   \n",
      "697   fortheloveof_lunchboxes   19.0                teukoapp       0   \n",
      "716   fortheloveof_lunchboxes    6.0        evelyns_lunchbox       0   \n",
      "722            lunch_obsessed    8.0     _apples_and_bananas       0   \n",
      "736   fortheloveof_lunchboxes   14.0      simplebreakfastfun       0   \n",
      "756     school_lunchbox_inspo    6.0           noahs.nibbles       0   \n",
      "762   fortheloveof_lunchboxes    7.0         lunchboxforlulu       0   \n",
      "770            lunch_obsessed    5.0         kai_and_lunches       0   \n",
      "928   fortheloveof_lunchboxes    7.0     easy_familienkueche       0   \n",
      "941   fortheloveof_lunchboxes    7.0         lynseys_lunches       0   \n",
      "949     chrisnicol_lunchboxes   11.0               wearemtjl       0   \n",
      "983            lunch_obsessed    9.0          bentojaponaise       0   \n",
      "1014    school_lunchbox_inspo    5.0        madpakkemaskinen       0   \n",
      "1020  fortheloveof_lunchboxes   14.0           lilaslunchbox       0   \n",
      "1034        bento_box_lunches   14.0  moon_tast._millennials       0   \n",
      "1086    chrisnicol_lunchboxes    7.0    obsessed_lunchboxmum       0   \n",
      "1140    chrisnicol_lunchboxes    8.0    mythreelittlekittens       0   \n",
      "1210           lunch_obsessed    9.0               yuanabout       0   \n",
      "1221  fortheloveof_lunchboxes   15.0      seaweedsupermarket       0   \n",
      "1253               lunchinspo    2.0        lunchesbywhitney       0   \n",
      "1268               lunchinspo    7.0           lunchbox.envy       0   \n",
      "1282            bentoboxlunch    1.0        malunchboxdujour       0   \n",
      "1324        bento_box_lunches    9.0                boxcakez       0   \n",
      "1372    chrisnicol_lunchboxes    5.0          imadethisbento       0   \n",
      "1405               lunchinspo    3.0       mumma.lunch.inspo       0   \n",
      "1408           litaloveslunch    5.0          beachouse.baby       0   \n",
      "1421           litaloveslunch    4.0             munchi_kids       0   \n",
      "1662           litaloveslunch    1.0         familylunchpack       0   \n",
      "1734                 lunchbox    1.0           jonoslunchbox       0   \n",
      "\n",
      "      followback  \n",
      "0              0  \n",
      "6              0  \n",
      "43             0  \n",
      "132            0  \n",
      "149            0  \n",
      "156            1  \n",
      "195            0  \n",
      "203            1  \n",
      "233            0  \n",
      "241            0  \n",
      "258            0  \n",
      "298            1  \n",
      "319            1  \n",
      "349            0  \n",
      "357            0  \n",
      "384            0  \n",
      "410            0  \n",
      "427            0  \n",
      "444            0  \n",
      "487            0  \n",
      "501            0  \n",
      "509            0  \n",
      "536            1  \n",
      "542            0  \n",
      "550            1  \n",
      "567            0  \n",
      "615            0  \n",
      "623            0  \n",
      "632            0  \n",
      "650            0  \n",
      "683            0  \n",
      "697            0  \n",
      "716            1  \n",
      "722            0  \n",
      "736            0  \n",
      "756            0  \n",
      "762            1  \n",
      "770            0  \n",
      "928            0  \n",
      "941            0  \n",
      "949            0  \n",
      "983            0  \n",
      "1014           0  \n",
      "1020           1  \n",
      "1034           0  \n",
      "1086           1  \n",
      "1140           0  \n",
      "1210           0  \n",
      "1221           1  \n",
      "1253           1  \n",
      "1268           1  \n",
      "1282           0  \n",
      "1324           0  \n",
      "1372           0  \n",
      "1405           0  \n",
      "1408           1  \n",
      "1421           0  \n",
      "1662           0  \n",
      "1734           0  \n"
     ]
    }
   ],
   "source": [
    "print(merge[merge[\"name\"].duplicated()])"
   ]
  },
  {
   "cell_type": "code",
   "execution_count": 30,
   "metadata": {},
   "outputs": [
    {
     "data": {
      "text/html": [
       "<div>\n",
       "<style scoped>\n",
       "    .dataframe tbody tr th:only-of-type {\n",
       "        vertical-align: middle;\n",
       "    }\n",
       "\n",
       "    .dataframe tbody tr th {\n",
       "        vertical-align: top;\n",
       "    }\n",
       "\n",
       "    .dataframe thead th {\n",
       "        text-align: right;\n",
       "    }\n",
       "</style>\n",
       "<table border=\"1\" class=\"dataframe\">\n",
       "  <thead>\n",
       "    <tr style=\"text-align: right;\">\n",
       "      <th></th>\n",
       "      <th>name</th>\n",
       "      <th>likes</th>\n",
       "    </tr>\n",
       "  </thead>\n",
       "  <tbody>\n",
       "    <tr>\n",
       "      <th>0</th>\n",
       "      <td>lynn9823</td>\n",
       "      <td>0.0</td>\n",
       "    </tr>\n",
       "    <tr>\n",
       "      <th>1</th>\n",
       "      <td>sunshine_and_sandwiches</td>\n",
       "      <td>0.0</td>\n",
       "    </tr>\n",
       "    <tr>\n",
       "      <th>2</th>\n",
       "      <td>fauxmoccs</td>\n",
       "      <td>0.0</td>\n",
       "    </tr>\n",
       "    <tr>\n",
       "      <th>3</th>\n",
       "      <td>tiffaneyfrancis1969</td>\n",
       "      <td>0.0</td>\n",
       "    </tr>\n",
       "    <tr>\n",
       "      <th>4</th>\n",
       "      <td>malunchboxdujour</td>\n",
       "      <td>1.0</td>\n",
       "    </tr>\n",
       "  </tbody>\n",
       "</table>\n",
       "</div>"
      ],
      "text/plain": [
       "                      name  likes\n",
       "0                 lynn9823    0.0\n",
       "1  sunshine_and_sandwiches    0.0\n",
       "2                fauxmoccs    0.0\n",
       "3      tiffaneyfrancis1969    0.0\n",
       "4         malunchboxdujour    1.0"
      ]
     },
     "execution_count": 30,
     "metadata": {},
     "output_type": "execute_result"
    }
   ],
   "source": [
    "#count total likes each unique user received\n",
    "likesnumber = merge.groupby(['name'], sort=False)['likes'].sum().reset_index()\n",
    "likesnumber.head()"
   ]
  },
  {
   "cell_type": "code",
   "execution_count": 31,
   "metadata": {},
   "outputs": [
    {
     "name": "stdout",
     "output_type": "stream",
     "text": [
      "Empty DataFrame\n",
      "Columns: [name, likes]\n",
      "Index: []\n"
     ]
    }
   ],
   "source": [
    "#check duplicate(none)\n",
    "print(likesnumber[likesnumber[\"name\"].duplicated()])"
   ]
  },
  {
   "cell_type": "code",
   "execution_count": 32,
   "metadata": {},
   "outputs": [
    {
     "data": {
      "text/html": [
       "<div>\n",
       "<style scoped>\n",
       "    .dataframe tbody tr th:only-of-type {\n",
       "        vertical-align: middle;\n",
       "    }\n",
       "\n",
       "    .dataframe tbody tr th {\n",
       "        vertical-align: top;\n",
       "    }\n",
       "\n",
       "    .dataframe thead th {\n",
       "        text-align: right;\n",
       "    }\n",
       "</style>\n",
       "<table border=\"1\" class=\"dataframe\">\n",
       "  <thead>\n",
       "    <tr style=\"text-align: right;\">\n",
       "      <th></th>\n",
       "      <th>from</th>\n",
       "      <th>likes</th>\n",
       "      <th>name</th>\n",
       "      <th>follow</th>\n",
       "      <th>followback</th>\n",
       "    </tr>\n",
       "  </thead>\n",
       "  <tbody>\n",
       "    <tr>\n",
       "      <th>0</th>\n",
       "      <td>homeschoollunchtime</td>\n",
       "      <td>0.0</td>\n",
       "      <td>lynn9823</td>\n",
       "      <td>1</td>\n",
       "      <td>0</td>\n",
       "    </tr>\n",
       "    <tr>\n",
       "      <th>1</th>\n",
       "      <td>bento_box_lunches</td>\n",
       "      <td>0.0</td>\n",
       "      <td>sunshine_and_sandwiches</td>\n",
       "      <td>1</td>\n",
       "      <td>0</td>\n",
       "    </tr>\n",
       "    <tr>\n",
       "      <th>2</th>\n",
       "      <td>foodfitforkids</td>\n",
       "      <td>0.0</td>\n",
       "      <td>fauxmoccs</td>\n",
       "      <td>1</td>\n",
       "      <td>0</td>\n",
       "    </tr>\n",
       "    <tr>\n",
       "      <th>3</th>\n",
       "      <td>bento_box_lunches</td>\n",
       "      <td>0.0</td>\n",
       "      <td>tiffaneyfrancis1969</td>\n",
       "      <td>1</td>\n",
       "      <td>1</td>\n",
       "    </tr>\n",
       "    <tr>\n",
       "      <th>4</th>\n",
       "      <td>lunch_ideasforkids</td>\n",
       "      <td>0.0</td>\n",
       "      <td>malunchboxdujour</td>\n",
       "      <td>1</td>\n",
       "      <td>0</td>\n",
       "    </tr>\n",
       "  </tbody>\n",
       "</table>\n",
       "</div>"
      ],
      "text/plain": [
       "                  from  likes                     name  follow  followback\n",
       "0  homeschoollunchtime    0.0                 lynn9823       1           0\n",
       "1    bento_box_lunches    0.0  sunshine_and_sandwiches       1           0\n",
       "2       foodfitforkids    0.0                fauxmoccs       1           0\n",
       "3    bento_box_lunches    0.0      tiffaneyfrancis1969       1           1\n",
       "4   lunch_ideasforkids    0.0         malunchboxdujour       1           0"
      ]
     },
     "execution_count": 32,
     "metadata": {},
     "output_type": "execute_result"
    }
   ],
   "source": [
    "#delete the duplicate users in merge dataset\n",
    "merge = merge.drop_duplicates('name', keep='first')\n",
    "merge.head()"
   ]
  },
  {
   "cell_type": "code",
   "execution_count": 33,
   "metadata": {},
   "outputs": [
    {
     "data": {
      "text/html": [
       "<div>\n",
       "<style scoped>\n",
       "    .dataframe tbody tr th:only-of-type {\n",
       "        vertical-align: middle;\n",
       "    }\n",
       "\n",
       "    .dataframe tbody tr th {\n",
       "        vertical-align: top;\n",
       "    }\n",
       "\n",
       "    .dataframe thead th {\n",
       "        text-align: right;\n",
       "    }\n",
       "</style>\n",
       "<table border=\"1\" class=\"dataframe\">\n",
       "  <thead>\n",
       "    <tr style=\"text-align: right;\">\n",
       "      <th></th>\n",
       "      <th>from</th>\n",
       "      <th>name</th>\n",
       "      <th>follow</th>\n",
       "      <th>followback</th>\n",
       "    </tr>\n",
       "  </thead>\n",
       "  <tbody>\n",
       "    <tr>\n",
       "      <th>0</th>\n",
       "      <td>homeschoollunchtime</td>\n",
       "      <td>lynn9823</td>\n",
       "      <td>1</td>\n",
       "      <td>0</td>\n",
       "    </tr>\n",
       "    <tr>\n",
       "      <th>1</th>\n",
       "      <td>bento_box_lunches</td>\n",
       "      <td>sunshine_and_sandwiches</td>\n",
       "      <td>1</td>\n",
       "      <td>0</td>\n",
       "    </tr>\n",
       "    <tr>\n",
       "      <th>2</th>\n",
       "      <td>foodfitforkids</td>\n",
       "      <td>fauxmoccs</td>\n",
       "      <td>1</td>\n",
       "      <td>0</td>\n",
       "    </tr>\n",
       "    <tr>\n",
       "      <th>3</th>\n",
       "      <td>bento_box_lunches</td>\n",
       "      <td>tiffaneyfrancis1969</td>\n",
       "      <td>1</td>\n",
       "      <td>1</td>\n",
       "    </tr>\n",
       "    <tr>\n",
       "      <th>4</th>\n",
       "      <td>lunch_ideasforkids</td>\n",
       "      <td>malunchboxdujour</td>\n",
       "      <td>1</td>\n",
       "      <td>0</td>\n",
       "    </tr>\n",
       "  </tbody>\n",
       "</table>\n",
       "</div>"
      ],
      "text/plain": [
       "                  from                     name  follow  followback\n",
       "0  homeschoollunchtime                 lynn9823       1           0\n",
       "1    bento_box_lunches  sunshine_and_sandwiches       1           0\n",
       "2       foodfitforkids                fauxmoccs       1           0\n",
       "3    bento_box_lunches      tiffaneyfrancis1969       1           1\n",
       "4   lunch_ideasforkids         malunchboxdujour       1           0"
      ]
     },
     "execution_count": 33,
     "metadata": {},
     "output_type": "execute_result"
    }
   ],
   "source": [
    "#delete the likes column in merge dataset\n",
    "del merge['likes']\n",
    "merge.head()"
   ]
  },
  {
   "cell_type": "code",
   "execution_count": 34,
   "metadata": {},
   "outputs": [
    {
     "data": {
      "text/html": [
       "<div>\n",
       "<style scoped>\n",
       "    .dataframe tbody tr th:only-of-type {\n",
       "        vertical-align: middle;\n",
       "    }\n",
       "\n",
       "    .dataframe tbody tr th {\n",
       "        vertical-align: top;\n",
       "    }\n",
       "\n",
       "    .dataframe thead th {\n",
       "        text-align: right;\n",
       "    }\n",
       "</style>\n",
       "<table border=\"1\" class=\"dataframe\">\n",
       "  <thead>\n",
       "    <tr style=\"text-align: right;\">\n",
       "      <th></th>\n",
       "      <th>from</th>\n",
       "      <th>name</th>\n",
       "      <th>follow</th>\n",
       "      <th>followback</th>\n",
       "      <th>likes</th>\n",
       "    </tr>\n",
       "  </thead>\n",
       "  <tbody>\n",
       "    <tr>\n",
       "      <th>0</th>\n",
       "      <td>homeschoollunchtime</td>\n",
       "      <td>lynn9823</td>\n",
       "      <td>1</td>\n",
       "      <td>0</td>\n",
       "      <td>0.0</td>\n",
       "    </tr>\n",
       "    <tr>\n",
       "      <th>1</th>\n",
       "      <td>bento_box_lunches</td>\n",
       "      <td>sunshine_and_sandwiches</td>\n",
       "      <td>1</td>\n",
       "      <td>0</td>\n",
       "      <td>0.0</td>\n",
       "    </tr>\n",
       "    <tr>\n",
       "      <th>2</th>\n",
       "      <td>foodfitforkids</td>\n",
       "      <td>fauxmoccs</td>\n",
       "      <td>1</td>\n",
       "      <td>0</td>\n",
       "      <td>0.0</td>\n",
       "    </tr>\n",
       "    <tr>\n",
       "      <th>3</th>\n",
       "      <td>bento_box_lunches</td>\n",
       "      <td>tiffaneyfrancis1969</td>\n",
       "      <td>1</td>\n",
       "      <td>1</td>\n",
       "      <td>0.0</td>\n",
       "    </tr>\n",
       "    <tr>\n",
       "      <th>4</th>\n",
       "      <td>lunch_ideasforkids</td>\n",
       "      <td>malunchboxdujour</td>\n",
       "      <td>1</td>\n",
       "      <td>0</td>\n",
       "      <td>1.0</td>\n",
       "    </tr>\n",
       "  </tbody>\n",
       "</table>\n",
       "</div>"
      ],
      "text/plain": [
       "                  from                     name  follow  followback  likes\n",
       "0  homeschoollunchtime                 lynn9823       1           0    0.0\n",
       "1    bento_box_lunches  sunshine_and_sandwiches       1           0    0.0\n",
       "2       foodfitforkids                fauxmoccs       1           0    0.0\n",
       "3    bento_box_lunches      tiffaneyfrancis1969       1           1    0.0\n",
       "4   lunch_ideasforkids         malunchboxdujour       1           0    1.0"
      ]
     },
     "execution_count": 34,
     "metadata": {},
     "output_type": "execute_result"
    },
    {
     "name": "stdout",
     "output_type": "stream",
     "text": [
      "<class 'pandas.core.frame.DataFrame'>\n",
      "Int64Index: 1797 entries, 0 to 1796\n",
      "Data columns (total 5 columns):\n",
      " #   Column      Non-Null Count  Dtype  \n",
      "---  ------      --------------  -----  \n",
      " 0   from        1797 non-null   object \n",
      " 1   name        1797 non-null   object \n",
      " 2   follow      1797 non-null   int64  \n",
      " 3   followback  1797 non-null   int64  \n",
      " 4   likes       1797 non-null   float64\n",
      "dtypes: float64(1), int64(2), object(2)\n",
      "memory usage: 84.2+ KB\n"
     ]
    }
   ],
   "source": [
    "merge =pd.merge(merge,likesnumber,on='name')\n",
    "merge.head()\n",
    "merge.info()"
   ]
  },
  {
   "cell_type": "code",
   "execution_count": 35,
   "metadata": {},
   "outputs": [],
   "source": [
    "merge_clear = merge.drop(merge[(merge['from']=='lunchbox')|(merge['from']=='lunchboxinspiration')|\n",
    "                              (merge['from']=='bentoboxlunch')|(merge['from']=='lunchinspo')|\n",
    "                              (merge['from']=='recipes')|(merge['from']=='lunchideas')|\n",
    "                              (merge['from']=='recipeideas')|(merge['from']=='recipeoftheday')|\n",
    "                              (merge['from']=='healthyrecipes')].index)"
   ]
  },
  {
   "cell_type": "code",
   "execution_count": 36,
   "metadata": {},
   "outputs": [
    {
     "data": {
      "text/html": [
       "<div>\n",
       "<style scoped>\n",
       "    .dataframe tbody tr th:only-of-type {\n",
       "        vertical-align: middle;\n",
       "    }\n",
       "\n",
       "    .dataframe tbody tr th {\n",
       "        vertical-align: top;\n",
       "    }\n",
       "\n",
       "    .dataframe thead th {\n",
       "        text-align: right;\n",
       "    }\n",
       "</style>\n",
       "<table border=\"1\" class=\"dataframe\">\n",
       "  <thead>\n",
       "    <tr style=\"text-align: right;\">\n",
       "      <th></th>\n",
       "      <th>from</th>\n",
       "      <th>name</th>\n",
       "      <th>follow</th>\n",
       "      <th>followback</th>\n",
       "      <th>likes</th>\n",
       "    </tr>\n",
       "  </thead>\n",
       "  <tbody>\n",
       "    <tr>\n",
       "      <th>0</th>\n",
       "      <td>homeschoollunchtime</td>\n",
       "      <td>lynn9823</td>\n",
       "      <td>1</td>\n",
       "      <td>0</td>\n",
       "      <td>0.0</td>\n",
       "    </tr>\n",
       "    <tr>\n",
       "      <th>1</th>\n",
       "      <td>bento_box_lunches</td>\n",
       "      <td>sunshine_and_sandwiches</td>\n",
       "      <td>1</td>\n",
       "      <td>0</td>\n",
       "      <td>0.0</td>\n",
       "    </tr>\n",
       "    <tr>\n",
       "      <th>2</th>\n",
       "      <td>foodfitforkids</td>\n",
       "      <td>fauxmoccs</td>\n",
       "      <td>1</td>\n",
       "      <td>0</td>\n",
       "      <td>0.0</td>\n",
       "    </tr>\n",
       "    <tr>\n",
       "      <th>3</th>\n",
       "      <td>bento_box_lunches</td>\n",
       "      <td>tiffaneyfrancis1969</td>\n",
       "      <td>1</td>\n",
       "      <td>1</td>\n",
       "      <td>0.0</td>\n",
       "    </tr>\n",
       "    <tr>\n",
       "      <th>4</th>\n",
       "      <td>lunch_ideasforkids</td>\n",
       "      <td>malunchboxdujour</td>\n",
       "      <td>1</td>\n",
       "      <td>0</td>\n",
       "      <td>1.0</td>\n",
       "    </tr>\n",
       "  </tbody>\n",
       "</table>\n",
       "</div>"
      ],
      "text/plain": [
       "                  from                     name  follow  followback  likes\n",
       "0  homeschoollunchtime                 lynn9823       1           0    0.0\n",
       "1    bento_box_lunches  sunshine_and_sandwiches       1           0    0.0\n",
       "2       foodfitforkids                fauxmoccs       1           0    0.0\n",
       "3    bento_box_lunches      tiffaneyfrancis1969       1           1    0.0\n",
       "4   lunch_ideasforkids         malunchboxdujour       1           0    1.0"
      ]
     },
     "execution_count": 36,
     "metadata": {},
     "output_type": "execute_result"
    },
    {
     "name": "stdout",
     "output_type": "stream",
     "text": [
      "<class 'pandas.core.frame.DataFrame'>\n",
      "Int64Index: 1347 entries, 0 to 1723\n",
      "Data columns (total 5 columns):\n",
      " #   Column      Non-Null Count  Dtype  \n",
      "---  ------      --------------  -----  \n",
      " 0   from        1347 non-null   object \n",
      " 1   name        1347 non-null   object \n",
      " 2   follow      1347 non-null   int64  \n",
      " 3   followback  1347 non-null   int64  \n",
      " 4   likes       1347 non-null   float64\n",
      "dtypes: float64(1), int64(2), object(2)\n",
      "memory usage: 63.1+ KB\n"
     ]
    }
   ],
   "source": [
    "merge_clear.head()\n",
    "merge_clear.info()"
   ]
  },
  {
   "cell_type": "code",
   "execution_count": 37,
   "metadata": {},
   "outputs": [
    {
     "name": "stdout",
     "output_type": "stream",
     "text": [
      "lunch_ideasforkids         127\n",
      "bento_box_lunches           97\n",
      "bentolunchboxmums           92\n",
      "bentoboxforkids             87\n",
      "es_lunchbox                 84\n",
      "kids_food_inspo             83\n",
      "homeschoollunchtime         74\n",
      "cleaneatmagz                72\n",
      "pascalestable               72\n",
      "pickyhealthylunchbox        72\n",
      "the_greedy_ginger           66\n",
      "bento_lunch_uk              57\n",
      "foodfitforkids              57\n",
      "moniquecormacknutrition     57\n",
      "brookes_fun_bento           50\n",
      "yummy_umami                 45\n",
      "homecookingcollective       38\n",
      "familyhomecook              31\n",
      "thatlunchboxmom             30\n",
      "chrisnicol_lunchboxes       15\n",
      "lunch_obsessed              11\n",
      "fortheloveof_lunchboxes     11\n",
      "tavvakitchen                10\n",
      "school_lunchbox_inspo        6\n",
      "litaloveslunch               3\n",
      "Name: from, dtype: int64\n"
     ]
    }
   ],
   "source": [
    "print(merge_clear['from'].value_counts())"
   ]
  },
  {
   "cell_type": "code",
   "execution_count": 38,
   "metadata": {},
   "outputs": [
    {
     "data": {
      "text/plain": [
       "159513"
      ]
     },
     "execution_count": 38,
     "metadata": {},
     "output_type": "execute_result"
    }
   ],
   "source": [
    "merge_clear= merge_clear.replace('bentolunchboxmums', 2177)\n",
    "merge_clear= merge_clear.replace('bento_lunch_uk',1113)\n",
    "merge_clear= merge_clear.replace('lunch_ideasforkids',513)\n",
    "merge_clear= merge_clear.replace('pascalestable',2772)\n",
    "merge_clear= merge_clear.replace('bentoboxforkids',3841)\n",
    "merge_clear= merge_clear.replace('foodfitforkids',4640)\n",
    "merge_clear= merge_clear.replace('es_lunchbox',635)\n",
    "merge_clear= merge_clear.replace('homeschoollunchtime',250)\n",
    "merge_clear= merge_clear.replace('pickyhealthylunchbox',727)\n",
    "merge_clear= merge_clear.replace('brookes_fun_bento',311)\n",
    "merge_clear= merge_clear.replace('tavvakitchen',2361)\n",
    "merge_clear= merge_clear.replace('homecookingcollective',4190)\n",
    "merge_clear= merge_clear.replace('thatlunchboxmom',4423)\n",
    "merge_clear= merge_clear.replace('school_lunchbox_inspo',1152)\n",
    "merge_clear= merge_clear.replace('litaloveslunch',1110)\n",
    "merge_clear= merge_clear.replace('cleaneatmagz',29000)\n",
    "merge_clear= merge_clear.replace('bento_box_lunches',8690)\n",
    "merge_clear= merge_clear.replace('fortheloveof_lunchboxes',455)\n",
    "merge_clear= merge_clear.replace('brookes_fun_bento',314)\n",
    "merge_clear= merge_clear.replace('lunch_obsessed',712)\n",
    "merge_clear= merge_clear.replace('chrisnicol_lunchboxes',253)\n",
    "merge_clear= merge_clear.replace('moniquecormacknutrition',27000)\n",
    "merge_clear= merge_clear.replace('familyhomecook',21000)\n",
    "merge_clear= merge_clear.replace('yummy_umami',21000)\n",
    "merge_clear= merge_clear.replace('kids_food_inspo',7874)\n",
    "merge_clear= merge_clear.replace('the_greedy_ginger',13000)\n",
    "#merge_clear= merge_clear.replace('',)\n",
    "\n",
    "\n",
    "totaluser = 2177+1113+513+2772+3841+4640+635+250+727+311+2361+4190+4423+1152+1110+29000+8690+455+314+712+253+27000+21000+21000+7874+13000\n",
    "totaluser"
   ]
  },
  {
   "cell_type": "code",
   "execution_count": 39,
   "metadata": {},
   "outputs": [],
   "source": [
    "merge_clear=merge_clear.reset_index()"
   ]
  },
  {
   "cell_type": "code",
   "execution_count": 40,
   "metadata": {},
   "outputs": [
    {
     "data": {
      "text/html": [
       "<div>\n",
       "<style scoped>\n",
       "    .dataframe tbody tr th:only-of-type {\n",
       "        vertical-align: middle;\n",
       "    }\n",
       "\n",
       "    .dataframe tbody tr th {\n",
       "        vertical-align: top;\n",
       "    }\n",
       "\n",
       "    .dataframe thead th {\n",
       "        text-align: right;\n",
       "    }\n",
       "</style>\n",
       "<table border=\"1\" class=\"dataframe\">\n",
       "  <thead>\n",
       "    <tr style=\"text-align: right;\">\n",
       "      <th></th>\n",
       "      <th>from</th>\n",
       "      <th>name</th>\n",
       "      <th>follow</th>\n",
       "      <th>followback</th>\n",
       "      <th>likes</th>\n",
       "    </tr>\n",
       "  </thead>\n",
       "  <tbody>\n",
       "    <tr>\n",
       "      <th>0</th>\n",
       "      <td>250</td>\n",
       "      <td>lynn9823</td>\n",
       "      <td>1</td>\n",
       "      <td>0</td>\n",
       "      <td>0.0</td>\n",
       "    </tr>\n",
       "    <tr>\n",
       "      <th>1</th>\n",
       "      <td>8690</td>\n",
       "      <td>sunshine_and_sandwiches</td>\n",
       "      <td>1</td>\n",
       "      <td>0</td>\n",
       "      <td>0.0</td>\n",
       "    </tr>\n",
       "    <tr>\n",
       "      <th>2</th>\n",
       "      <td>4640</td>\n",
       "      <td>fauxmoccs</td>\n",
       "      <td>1</td>\n",
       "      <td>0</td>\n",
       "      <td>0.0</td>\n",
       "    </tr>\n",
       "    <tr>\n",
       "      <th>3</th>\n",
       "      <td>8690</td>\n",
       "      <td>tiffaneyfrancis1969</td>\n",
       "      <td>1</td>\n",
       "      <td>1</td>\n",
       "      <td>0.0</td>\n",
       "    </tr>\n",
       "    <tr>\n",
       "      <th>4</th>\n",
       "      <td>513</td>\n",
       "      <td>malunchboxdujour</td>\n",
       "      <td>1</td>\n",
       "      <td>0</td>\n",
       "      <td>1.0</td>\n",
       "    </tr>\n",
       "    <tr>\n",
       "      <th>...</th>\n",
       "      <td>...</td>\n",
       "      <td>...</td>\n",
       "      <td>...</td>\n",
       "      <td>...</td>\n",
       "      <td>...</td>\n",
       "    </tr>\n",
       "    <tr>\n",
       "      <th>995</th>\n",
       "      <td>635</td>\n",
       "      <td>joyslittlelunches</td>\n",
       "      <td>1</td>\n",
       "      <td>1</td>\n",
       "      <td>2.0</td>\n",
       "    </tr>\n",
       "    <tr>\n",
       "      <th>996</th>\n",
       "      <td>311</td>\n",
       "      <td>bentojaponaise</td>\n",
       "      <td>1</td>\n",
       "      <td>0</td>\n",
       "      <td>10.0</td>\n",
       "    </tr>\n",
       "    <tr>\n",
       "      <th>997</th>\n",
       "      <td>3841</td>\n",
       "      <td>angeliqueforess</td>\n",
       "      <td>1</td>\n",
       "      <td>0</td>\n",
       "      <td>0.0</td>\n",
       "    </tr>\n",
       "    <tr>\n",
       "      <th>998</th>\n",
       "      <td>250</td>\n",
       "      <td>carre_terras</td>\n",
       "      <td>1</td>\n",
       "      <td>0</td>\n",
       "      <td>0.0</td>\n",
       "    </tr>\n",
       "    <tr>\n",
       "      <th>999</th>\n",
       "      <td>2772</td>\n",
       "      <td>kemarusan</td>\n",
       "      <td>1</td>\n",
       "      <td>0</td>\n",
       "      <td>2.0</td>\n",
       "    </tr>\n",
       "  </tbody>\n",
       "</table>\n",
       "<p>1000 rows × 5 columns</p>\n",
       "</div>"
      ],
      "text/plain": [
       "     from                     name  follow  followback  likes\n",
       "0     250                 lynn9823       1           0    0.0\n",
       "1    8690  sunshine_and_sandwiches       1           0    0.0\n",
       "2    4640                fauxmoccs       1           0    0.0\n",
       "3    8690      tiffaneyfrancis1969       1           1    0.0\n",
       "4     513         malunchboxdujour       1           0    1.0\n",
       "..    ...                      ...     ...         ...    ...\n",
       "995   635        joyslittlelunches       1           1    2.0\n",
       "996   311           bentojaponaise       1           0   10.0\n",
       "997  3841          angeliqueforess       1           0    0.0\n",
       "998   250             carre_terras       1           0    0.0\n",
       "999  2772                kemarusan       1           0    2.0\n",
       "\n",
       "[1000 rows x 5 columns]"
      ]
     },
     "execution_count": 40,
     "metadata": {},
     "output_type": "execute_result"
    }
   ],
   "source": [
    "del merge_clear['index']\n",
    "merge_clear.head(1000)"
   ]
  },
  {
   "cell_type": "code",
   "execution_count": 41,
   "metadata": {},
   "outputs": [
    {
     "data": {
      "text/html": [
       "<div>\n",
       "<style scoped>\n",
       "    .dataframe tbody tr th:only-of-type {\n",
       "        vertical-align: middle;\n",
       "    }\n",
       "\n",
       "    .dataframe tbody tr th {\n",
       "        vertical-align: top;\n",
       "    }\n",
       "\n",
       "    .dataframe thead th {\n",
       "        text-align: right;\n",
       "    }\n",
       "</style>\n",
       "<table border=\"1\" class=\"dataframe\">\n",
       "  <thead>\n",
       "    <tr style=\"text-align: right;\">\n",
       "      <th></th>\n",
       "      <th>from</th>\n",
       "      <th>name</th>\n",
       "      <th>follow</th>\n",
       "      <th>followback</th>\n",
       "      <th>likes</th>\n",
       "    </tr>\n",
       "  </thead>\n",
       "  <tbody>\n",
       "    <tr>\n",
       "      <th>0</th>\n",
       "      <td>250</td>\n",
       "      <td>lynn9823</td>\n",
       "      <td>1</td>\n",
       "      <td>0</td>\n",
       "      <td>0.0</td>\n",
       "    </tr>\n",
       "    <tr>\n",
       "      <th>1</th>\n",
       "      <td>8690</td>\n",
       "      <td>sunshine_and_sandwiches</td>\n",
       "      <td>1</td>\n",
       "      <td>0</td>\n",
       "      <td>0.0</td>\n",
       "    </tr>\n",
       "    <tr>\n",
       "      <th>2</th>\n",
       "      <td>4640</td>\n",
       "      <td>fauxmoccs</td>\n",
       "      <td>1</td>\n",
       "      <td>0</td>\n",
       "      <td>0.0</td>\n",
       "    </tr>\n",
       "    <tr>\n",
       "      <th>3</th>\n",
       "      <td>8690</td>\n",
       "      <td>tiffaneyfrancis1969</td>\n",
       "      <td>1</td>\n",
       "      <td>1</td>\n",
       "      <td>0.0</td>\n",
       "    </tr>\n",
       "    <tr>\n",
       "      <th>4</th>\n",
       "      <td>513</td>\n",
       "      <td>malunchboxdujour</td>\n",
       "      <td>1</td>\n",
       "      <td>0</td>\n",
       "      <td>1.0</td>\n",
       "    </tr>\n",
       "  </tbody>\n",
       "</table>\n",
       "</div>"
      ],
      "text/plain": [
       "   from                     name  follow  followback  likes\n",
       "0   250                 lynn9823       1           0    0.0\n",
       "1  8690  sunshine_and_sandwiches       1           0    0.0\n",
       "2  4640                fauxmoccs       1           0    0.0\n",
       "3  8690      tiffaneyfrancis1969       1           1    0.0\n",
       "4   513         malunchboxdujour       1           0    1.0"
      ]
     },
     "execution_count": 41,
     "metadata": {},
     "output_type": "execute_result"
    }
   ],
   "source": [
    "merge_clear.head()"
   ]
  },
  {
   "cell_type": "code",
   "execution_count": 42,
   "metadata": {},
   "outputs": [],
   "source": [
    "likeornot = []\n",
    "for i in merge_clear['likes']:\n",
    "    if i > 0:\n",
    "        likeornot.append(1)\n",
    "    else:\n",
    "        likeornot.append(0)\n",
    "arr = np.array(likeornot)\n",
    "merge_clear['likeornot'] = likeornot"
   ]
  },
  {
   "cell_type": "code",
   "execution_count": 43,
   "metadata": {
    "scrolled": true
   },
   "outputs": [
    {
     "data": {
      "text/html": [
       "<div>\n",
       "<style scoped>\n",
       "    .dataframe tbody tr th:only-of-type {\n",
       "        vertical-align: middle;\n",
       "    }\n",
       "\n",
       "    .dataframe tbody tr th {\n",
       "        vertical-align: top;\n",
       "    }\n",
       "\n",
       "    .dataframe thead th {\n",
       "        text-align: right;\n",
       "    }\n",
       "</style>\n",
       "<table border=\"1\" class=\"dataframe\">\n",
       "  <thead>\n",
       "    <tr style=\"text-align: right;\">\n",
       "      <th></th>\n",
       "      <th>from</th>\n",
       "      <th>name</th>\n",
       "      <th>follow</th>\n",
       "      <th>followback</th>\n",
       "      <th>likes</th>\n",
       "      <th>likeornot</th>\n",
       "    </tr>\n",
       "  </thead>\n",
       "  <tbody>\n",
       "    <tr>\n",
       "      <th>0</th>\n",
       "      <td>250</td>\n",
       "      <td>lynn9823</td>\n",
       "      <td>1</td>\n",
       "      <td>0</td>\n",
       "      <td>0.0</td>\n",
       "      <td>0</td>\n",
       "    </tr>\n",
       "    <tr>\n",
       "      <th>1</th>\n",
       "      <td>8690</td>\n",
       "      <td>sunshine_and_sandwiches</td>\n",
       "      <td>1</td>\n",
       "      <td>0</td>\n",
       "      <td>0.0</td>\n",
       "      <td>0</td>\n",
       "    </tr>\n",
       "    <tr>\n",
       "      <th>2</th>\n",
       "      <td>4640</td>\n",
       "      <td>fauxmoccs</td>\n",
       "      <td>1</td>\n",
       "      <td>0</td>\n",
       "      <td>0.0</td>\n",
       "      <td>0</td>\n",
       "    </tr>\n",
       "    <tr>\n",
       "      <th>3</th>\n",
       "      <td>8690</td>\n",
       "      <td>tiffaneyfrancis1969</td>\n",
       "      <td>1</td>\n",
       "      <td>1</td>\n",
       "      <td>0.0</td>\n",
       "      <td>0</td>\n",
       "    </tr>\n",
       "    <tr>\n",
       "      <th>4</th>\n",
       "      <td>513</td>\n",
       "      <td>malunchboxdujour</td>\n",
       "      <td>1</td>\n",
       "      <td>0</td>\n",
       "      <td>1.0</td>\n",
       "      <td>1</td>\n",
       "    </tr>\n",
       "  </tbody>\n",
       "</table>\n",
       "</div>"
      ],
      "text/plain": [
       "   from                     name  follow  followback  likes  likeornot\n",
       "0   250                 lynn9823       1           0    0.0          0\n",
       "1  8690  sunshine_and_sandwiches       1           0    0.0          0\n",
       "2  4640                fauxmoccs       1           0    0.0          0\n",
       "3  8690      tiffaneyfrancis1969       1           1    0.0          0\n",
       "4   513         malunchboxdujour       1           0    1.0          1"
      ]
     },
     "execution_count": 43,
     "metadata": {},
     "output_type": "execute_result"
    }
   ],
   "source": [
    "merge_clear.head()"
   ]
  },
  {
   "cell_type": "code",
   "execution_count": 44,
   "metadata": {},
   "outputs": [],
   "source": [
    "merge_clear.to_csv('output.csv')"
   ]
  },
  {
   "cell_type": "code",
   "execution_count": 45,
   "metadata": {},
   "outputs": [
    {
     "data": {
      "text/html": [
       "<div>\n",
       "<style scoped>\n",
       "    .dataframe tbody tr th:only-of-type {\n",
       "        vertical-align: middle;\n",
       "    }\n",
       "\n",
       "    .dataframe tbody tr th {\n",
       "        vertical-align: top;\n",
       "    }\n",
       "\n",
       "    .dataframe thead th {\n",
       "        text-align: right;\n",
       "    }\n",
       "</style>\n",
       "<table border=\"1\" class=\"dataframe\">\n",
       "  <thead>\n",
       "    <tr style=\"text-align: right;\">\n",
       "      <th></th>\n",
       "      <th>followback</th>\n",
       "      <th>notfollowback</th>\n",
       "      <th>sum</th>\n",
       "    </tr>\n",
       "  </thead>\n",
       "  <tbody>\n",
       "    <tr>\n",
       "      <th>like</th>\n",
       "      <td>37</td>\n",
       "      <td>317</td>\n",
       "      <td>354</td>\n",
       "    </tr>\n",
       "    <tr>\n",
       "      <th>notlike</th>\n",
       "      <td>42</td>\n",
       "      <td>368</td>\n",
       "      <td>410</td>\n",
       "    </tr>\n",
       "    <tr>\n",
       "      <th>sum</th>\n",
       "      <td>18244</td>\n",
       "      <td>4899</td>\n",
       "      <td>764</td>\n",
       "    </tr>\n",
       "  </tbody>\n",
       "</table>\n",
       "</div>"
      ],
      "text/plain": [
       "         followback  notfollowback  sum\n",
       "like             37            317  354\n",
       "notlike          42            368  410\n",
       "sum           18244           4899  764"
      ]
     },
     "execution_count": 45,
     "metadata": {},
     "output_type": "execute_result"
    }
   ],
   "source": [
    "t_3 = pd.DataFrame(columns = ['followback','notfollowback','sum'],index = ['like','notlike','sum'],\n",
    "                 data=[[37,317,354],[42,368,410],[18244,4899,764]])\n",
    "t_3"
   ]
  },
  {
   "cell_type": "code",
   "execution_count": 46,
   "metadata": {},
   "outputs": [
    {
     "data": {
      "text/plain": [
       "(1938.0631654387078,\n",
       " 0.0,\n",
       " 2,\n",
       " array([[  271.31559794,    82.68440206],\n",
       "        [  314.23557954,    95.76442046],\n",
       "        [17737.44882252,  5405.55117748]]))"
      ]
     },
     "execution_count": 46,
     "metadata": {},
     "output_type": "execute_result"
    }
   ],
   "source": [
    "from scipy import stats\n",
    "observed = t_3[['followback','notfollowback']]\n",
    "stats.chi2_contingency(observed=observed) "
   ]
  },
  {
   "cell_type": "code",
   "execution_count": 47,
   "metadata": {},
   "outputs": [],
   "source": [
    "new = merge_clear\n",
    "del new['name']"
   ]
  },
  {
   "cell_type": "code",
   "execution_count": 48,
   "metadata": {},
   "outputs": [
    {
     "data": {
      "text/html": [
       "<div>\n",
       "<style scoped>\n",
       "    .dataframe tbody tr th:only-of-type {\n",
       "        vertical-align: middle;\n",
       "    }\n",
       "\n",
       "    .dataframe tbody tr th {\n",
       "        vertical-align: top;\n",
       "    }\n",
       "\n",
       "    .dataframe thead th {\n",
       "        text-align: right;\n",
       "    }\n",
       "</style>\n",
       "<table border=\"1\" class=\"dataframe\">\n",
       "  <thead>\n",
       "    <tr style=\"text-align: right;\">\n",
       "      <th></th>\n",
       "      <th>from</th>\n",
       "      <th>follow</th>\n",
       "      <th>followback</th>\n",
       "      <th>likes</th>\n",
       "      <th>likeornot</th>\n",
       "    </tr>\n",
       "  </thead>\n",
       "  <tbody>\n",
       "    <tr>\n",
       "      <th>0</th>\n",
       "      <td>250</td>\n",
       "      <td>1</td>\n",
       "      <td>0</td>\n",
       "      <td>0.0</td>\n",
       "      <td>0</td>\n",
       "    </tr>\n",
       "    <tr>\n",
       "      <th>1</th>\n",
       "      <td>8690</td>\n",
       "      <td>1</td>\n",
       "      <td>0</td>\n",
       "      <td>0.0</td>\n",
       "      <td>0</td>\n",
       "    </tr>\n",
       "    <tr>\n",
       "      <th>2</th>\n",
       "      <td>4640</td>\n",
       "      <td>1</td>\n",
       "      <td>0</td>\n",
       "      <td>0.0</td>\n",
       "      <td>0</td>\n",
       "    </tr>\n",
       "    <tr>\n",
       "      <th>3</th>\n",
       "      <td>8690</td>\n",
       "      <td>1</td>\n",
       "      <td>1</td>\n",
       "      <td>0.0</td>\n",
       "      <td>0</td>\n",
       "    </tr>\n",
       "    <tr>\n",
       "      <th>4</th>\n",
       "      <td>513</td>\n",
       "      <td>1</td>\n",
       "      <td>0</td>\n",
       "      <td>1.0</td>\n",
       "      <td>1</td>\n",
       "    </tr>\n",
       "  </tbody>\n",
       "</table>\n",
       "</div>"
      ],
      "text/plain": [
       "   from  follow  followback  likes  likeornot\n",
       "0   250       1           0    0.0          0\n",
       "1  8690       1           0    0.0          0\n",
       "2  4640       1           0    0.0          0\n",
       "3  8690       1           1    0.0          0\n",
       "4   513       1           0    1.0          1"
      ]
     },
     "execution_count": 48,
     "metadata": {},
     "output_type": "execute_result"
    },
    {
     "name": "stdout",
     "output_type": "stream",
     "text": [
      "<class 'pandas.core.frame.DataFrame'>\n",
      "RangeIndex: 1347 entries, 0 to 1346\n",
      "Data columns (total 5 columns):\n",
      " #   Column      Non-Null Count  Dtype  \n",
      "---  ------      --------------  -----  \n",
      " 0   from        1347 non-null   int64  \n",
      " 1   follow      1347 non-null   int64  \n",
      " 2   followback  1347 non-null   int64  \n",
      " 3   likes       1347 non-null   float64\n",
      " 4   likeornot   1347 non-null   int64  \n",
      "dtypes: float64(1), int64(4)\n",
      "memory usage: 52.7 KB\n"
     ]
    }
   ],
   "source": [
    "new.head()\n",
    "new.info()"
   ]
  },
  {
   "cell_type": "code",
   "execution_count": 49,
   "metadata": {},
   "outputs": [],
   "source": [
    "add = totaluser - 1347\n",
    "creat = np.zeros((add, 5))\n",
    "creat = pd.DataFrame(creat)"
   ]
  },
  {
   "cell_type": "code",
   "execution_count": 50,
   "metadata": {},
   "outputs": [
    {
     "data": {
      "text/html": [
       "<div>\n",
       "<style scoped>\n",
       "    .dataframe tbody tr th:only-of-type {\n",
       "        vertical-align: middle;\n",
       "    }\n",
       "\n",
       "    .dataframe tbody tr th {\n",
       "        vertical-align: top;\n",
       "    }\n",
       "\n",
       "    .dataframe thead th {\n",
       "        text-align: right;\n",
       "    }\n",
       "</style>\n",
       "<table border=\"1\" class=\"dataframe\">\n",
       "  <thead>\n",
       "    <tr style=\"text-align: right;\">\n",
       "      <th></th>\n",
       "      <th>0</th>\n",
       "      <th>1</th>\n",
       "      <th>2</th>\n",
       "      <th>3</th>\n",
       "      <th>4</th>\n",
       "    </tr>\n",
       "  </thead>\n",
       "  <tbody>\n",
       "    <tr>\n",
       "      <th>0</th>\n",
       "      <td>0.0</td>\n",
       "      <td>0.0</td>\n",
       "      <td>0.0</td>\n",
       "      <td>0.0</td>\n",
       "      <td>0.0</td>\n",
       "    </tr>\n",
       "    <tr>\n",
       "      <th>1</th>\n",
       "      <td>0.0</td>\n",
       "      <td>0.0</td>\n",
       "      <td>0.0</td>\n",
       "      <td>0.0</td>\n",
       "      <td>0.0</td>\n",
       "    </tr>\n",
       "    <tr>\n",
       "      <th>2</th>\n",
       "      <td>0.0</td>\n",
       "      <td>0.0</td>\n",
       "      <td>0.0</td>\n",
       "      <td>0.0</td>\n",
       "      <td>0.0</td>\n",
       "    </tr>\n",
       "    <tr>\n",
       "      <th>3</th>\n",
       "      <td>0.0</td>\n",
       "      <td>0.0</td>\n",
       "      <td>0.0</td>\n",
       "      <td>0.0</td>\n",
       "      <td>0.0</td>\n",
       "    </tr>\n",
       "    <tr>\n",
       "      <th>4</th>\n",
       "      <td>0.0</td>\n",
       "      <td>0.0</td>\n",
       "      <td>0.0</td>\n",
       "      <td>0.0</td>\n",
       "      <td>0.0</td>\n",
       "    </tr>\n",
       "  </tbody>\n",
       "</table>\n",
       "</div>"
      ],
      "text/plain": [
       "     0    1    2    3    4\n",
       "0  0.0  0.0  0.0  0.0  0.0\n",
       "1  0.0  0.0  0.0  0.0  0.0\n",
       "2  0.0  0.0  0.0  0.0  0.0\n",
       "3  0.0  0.0  0.0  0.0  0.0\n",
       "4  0.0  0.0  0.0  0.0  0.0"
      ]
     },
     "execution_count": 50,
     "metadata": {},
     "output_type": "execute_result"
    }
   ],
   "source": [
    "creat.head()"
   ]
  },
  {
   "cell_type": "code",
   "execution_count": 51,
   "metadata": {},
   "outputs": [
    {
     "data": {
      "text/html": [
       "<div>\n",
       "<style scoped>\n",
       "    .dataframe tbody tr th:only-of-type {\n",
       "        vertical-align: middle;\n",
       "    }\n",
       "\n",
       "    .dataframe tbody tr th {\n",
       "        vertical-align: top;\n",
       "    }\n",
       "\n",
       "    .dataframe thead th {\n",
       "        text-align: right;\n",
       "    }\n",
       "</style>\n",
       "<table border=\"1\" class=\"dataframe\">\n",
       "  <thead>\n",
       "    <tr style=\"text-align: right;\">\n",
       "      <th></th>\n",
       "      <th>from</th>\n",
       "      <th>follow</th>\n",
       "      <th>followback</th>\n",
       "      <th>likes</th>\n",
       "      <th>likeornot</th>\n",
       "    </tr>\n",
       "  </thead>\n",
       "  <tbody>\n",
       "    <tr>\n",
       "      <th>0</th>\n",
       "      <td>0.0</td>\n",
       "      <td>0.0</td>\n",
       "      <td>0.0</td>\n",
       "      <td>0.0</td>\n",
       "      <td>0.0</td>\n",
       "    </tr>\n",
       "    <tr>\n",
       "      <th>1</th>\n",
       "      <td>0.0</td>\n",
       "      <td>0.0</td>\n",
       "      <td>0.0</td>\n",
       "      <td>0.0</td>\n",
       "      <td>0.0</td>\n",
       "    </tr>\n",
       "    <tr>\n",
       "      <th>2</th>\n",
       "      <td>0.0</td>\n",
       "      <td>0.0</td>\n",
       "      <td>0.0</td>\n",
       "      <td>0.0</td>\n",
       "      <td>0.0</td>\n",
       "    </tr>\n",
       "    <tr>\n",
       "      <th>3</th>\n",
       "      <td>0.0</td>\n",
       "      <td>0.0</td>\n",
       "      <td>0.0</td>\n",
       "      <td>0.0</td>\n",
       "      <td>0.0</td>\n",
       "    </tr>\n",
       "    <tr>\n",
       "      <th>4</th>\n",
       "      <td>0.0</td>\n",
       "      <td>0.0</td>\n",
       "      <td>0.0</td>\n",
       "      <td>0.0</td>\n",
       "      <td>0.0</td>\n",
       "    </tr>\n",
       "  </tbody>\n",
       "</table>\n",
       "</div>"
      ],
      "text/plain": [
       "   from  follow  followback  likes  likeornot\n",
       "0   0.0     0.0         0.0    0.0        0.0\n",
       "1   0.0     0.0         0.0    0.0        0.0\n",
       "2   0.0     0.0         0.0    0.0        0.0\n",
       "3   0.0     0.0         0.0    0.0        0.0\n",
       "4   0.0     0.0         0.0    0.0        0.0"
      ]
     },
     "execution_count": 51,
     "metadata": {},
     "output_type": "execute_result"
    }
   ],
   "source": [
    "creat.columns = ['from','follow','followback','likes','likeornot']\n",
    "creat.head()"
   ]
  },
  {
   "cell_type": "code",
   "execution_count": 52,
   "metadata": {},
   "outputs": [],
   "source": [
    "import random\n",
    "fromlist = []\n",
    "list = [2177,1113,513,2772,3841,4640,635,250,727,311,2361,4190,4423,1152,1110,29000,8690,455,314,712,253,27000,21000,21000,7874,13000]\n",
    "for i in creat['from']:\n",
    "    if i==0:\n",
    "        a = random.choice(list)\n",
    "        fromlist.append(a)\n",
    "array = np.array(fromlist)\n",
    "creat['from'] = array\n",
    "\n"
   ]
  },
  {
   "cell_type": "code",
   "execution_count": 53,
   "metadata": {},
   "outputs": [],
   "source": [
    "creat.loc[0:Naturalfollower-1,'followback']=1\n",
    "#creat.iloc[0:Naturalfollower]['followback']=1"
   ]
  },
  {
   "cell_type": "code",
   "execution_count": 54,
   "metadata": {},
   "outputs": [
    {
     "data": {
      "text/html": [
       "<div>\n",
       "<style scoped>\n",
       "    .dataframe tbody tr th:only-of-type {\n",
       "        vertical-align: middle;\n",
       "    }\n",
       "\n",
       "    .dataframe tbody tr th {\n",
       "        vertical-align: top;\n",
       "    }\n",
       "\n",
       "    .dataframe thead th {\n",
       "        text-align: right;\n",
       "    }\n",
       "</style>\n",
       "<table border=\"1\" class=\"dataframe\">\n",
       "  <thead>\n",
       "    <tr style=\"text-align: right;\">\n",
       "      <th></th>\n",
       "      <th>from</th>\n",
       "      <th>follow</th>\n",
       "      <th>followback</th>\n",
       "      <th>likes</th>\n",
       "      <th>likeornot</th>\n",
       "    </tr>\n",
       "  </thead>\n",
       "  <tbody>\n",
       "    <tr>\n",
       "      <th>0</th>\n",
       "      <td>253</td>\n",
       "      <td>0.0</td>\n",
       "      <td>1.0</td>\n",
       "      <td>0.0</td>\n",
       "      <td>0.0</td>\n",
       "    </tr>\n",
       "    <tr>\n",
       "      <th>1</th>\n",
       "      <td>4423</td>\n",
       "      <td>0.0</td>\n",
       "      <td>1.0</td>\n",
       "      <td>0.0</td>\n",
       "      <td>0.0</td>\n",
       "    </tr>\n",
       "    <tr>\n",
       "      <th>2</th>\n",
       "      <td>2361</td>\n",
       "      <td>0.0</td>\n",
       "      <td>1.0</td>\n",
       "      <td>0.0</td>\n",
       "      <td>0.0</td>\n",
       "    </tr>\n",
       "    <tr>\n",
       "      <th>3</th>\n",
       "      <td>29000</td>\n",
       "      <td>0.0</td>\n",
       "      <td>1.0</td>\n",
       "      <td>0.0</td>\n",
       "      <td>0.0</td>\n",
       "    </tr>\n",
       "    <tr>\n",
       "      <th>4</th>\n",
       "      <td>7874</td>\n",
       "      <td>0.0</td>\n",
       "      <td>1.0</td>\n",
       "      <td>0.0</td>\n",
       "      <td>0.0</td>\n",
       "    </tr>\n",
       "    <tr>\n",
       "      <th>5</th>\n",
       "      <td>314</td>\n",
       "      <td>0.0</td>\n",
       "      <td>1.0</td>\n",
       "      <td>0.0</td>\n",
       "      <td>0.0</td>\n",
       "    </tr>\n",
       "    <tr>\n",
       "      <th>6</th>\n",
       "      <td>4423</td>\n",
       "      <td>0.0</td>\n",
       "      <td>1.0</td>\n",
       "      <td>0.0</td>\n",
       "      <td>0.0</td>\n",
       "    </tr>\n",
       "    <tr>\n",
       "      <th>7</th>\n",
       "      <td>311</td>\n",
       "      <td>0.0</td>\n",
       "      <td>1.0</td>\n",
       "      <td>0.0</td>\n",
       "      <td>0.0</td>\n",
       "    </tr>\n",
       "    <tr>\n",
       "      <th>8</th>\n",
       "      <td>4190</td>\n",
       "      <td>0.0</td>\n",
       "      <td>1.0</td>\n",
       "      <td>0.0</td>\n",
       "      <td>0.0</td>\n",
       "    </tr>\n",
       "    <tr>\n",
       "      <th>9</th>\n",
       "      <td>21000</td>\n",
       "      <td>0.0</td>\n",
       "      <td>1.0</td>\n",
       "      <td>0.0</td>\n",
       "      <td>0.0</td>\n",
       "    </tr>\n",
       "    <tr>\n",
       "      <th>10</th>\n",
       "      <td>21000</td>\n",
       "      <td>0.0</td>\n",
       "      <td>1.0</td>\n",
       "      <td>0.0</td>\n",
       "      <td>0.0</td>\n",
       "    </tr>\n",
       "    <tr>\n",
       "      <th>11</th>\n",
       "      <td>1110</td>\n",
       "      <td>0.0</td>\n",
       "      <td>1.0</td>\n",
       "      <td>0.0</td>\n",
       "      <td>0.0</td>\n",
       "    </tr>\n",
       "    <tr>\n",
       "      <th>12</th>\n",
       "      <td>21000</td>\n",
       "      <td>0.0</td>\n",
       "      <td>1.0</td>\n",
       "      <td>0.0</td>\n",
       "      <td>0.0</td>\n",
       "    </tr>\n",
       "    <tr>\n",
       "      <th>13</th>\n",
       "      <td>13000</td>\n",
       "      <td>0.0</td>\n",
       "      <td>1.0</td>\n",
       "      <td>0.0</td>\n",
       "      <td>0.0</td>\n",
       "    </tr>\n",
       "    <tr>\n",
       "      <th>14</th>\n",
       "      <td>455</td>\n",
       "      <td>0.0</td>\n",
       "      <td>1.0</td>\n",
       "      <td>0.0</td>\n",
       "      <td>0.0</td>\n",
       "    </tr>\n",
       "    <tr>\n",
       "      <th>15</th>\n",
       "      <td>2772</td>\n",
       "      <td>0.0</td>\n",
       "      <td>1.0</td>\n",
       "      <td>0.0</td>\n",
       "      <td>0.0</td>\n",
       "    </tr>\n",
       "    <tr>\n",
       "      <th>16</th>\n",
       "      <td>1110</td>\n",
       "      <td>0.0</td>\n",
       "      <td>1.0</td>\n",
       "      <td>0.0</td>\n",
       "      <td>0.0</td>\n",
       "    </tr>\n",
       "    <tr>\n",
       "      <th>17</th>\n",
       "      <td>250</td>\n",
       "      <td>0.0</td>\n",
       "      <td>1.0</td>\n",
       "      <td>0.0</td>\n",
       "      <td>0.0</td>\n",
       "    </tr>\n",
       "    <tr>\n",
       "      <th>18</th>\n",
       "      <td>455</td>\n",
       "      <td>0.0</td>\n",
       "      <td>1.0</td>\n",
       "      <td>0.0</td>\n",
       "      <td>0.0</td>\n",
       "    </tr>\n",
       "    <tr>\n",
       "      <th>19</th>\n",
       "      <td>4190</td>\n",
       "      <td>0.0</td>\n",
       "      <td>1.0</td>\n",
       "      <td>0.0</td>\n",
       "      <td>0.0</td>\n",
       "    </tr>\n",
       "    <tr>\n",
       "      <th>20</th>\n",
       "      <td>455</td>\n",
       "      <td>0.0</td>\n",
       "      <td>1.0</td>\n",
       "      <td>0.0</td>\n",
       "      <td>0.0</td>\n",
       "    </tr>\n",
       "    <tr>\n",
       "      <th>21</th>\n",
       "      <td>21000</td>\n",
       "      <td>0.0</td>\n",
       "      <td>1.0</td>\n",
       "      <td>0.0</td>\n",
       "      <td>0.0</td>\n",
       "    </tr>\n",
       "    <tr>\n",
       "      <th>22</th>\n",
       "      <td>455</td>\n",
       "      <td>0.0</td>\n",
       "      <td>1.0</td>\n",
       "      <td>0.0</td>\n",
       "      <td>0.0</td>\n",
       "    </tr>\n",
       "    <tr>\n",
       "      <th>23</th>\n",
       "      <td>3841</td>\n",
       "      <td>0.0</td>\n",
       "      <td>1.0</td>\n",
       "      <td>0.0</td>\n",
       "      <td>0.0</td>\n",
       "    </tr>\n",
       "    <tr>\n",
       "      <th>24</th>\n",
       "      <td>635</td>\n",
       "      <td>0.0</td>\n",
       "      <td>1.0</td>\n",
       "      <td>0.0</td>\n",
       "      <td>0.0</td>\n",
       "    </tr>\n",
       "    <tr>\n",
       "      <th>25</th>\n",
       "      <td>21000</td>\n",
       "      <td>0.0</td>\n",
       "      <td>1.0</td>\n",
       "      <td>0.0</td>\n",
       "      <td>0.0</td>\n",
       "    </tr>\n",
       "    <tr>\n",
       "      <th>26</th>\n",
       "      <td>7874</td>\n",
       "      <td>0.0</td>\n",
       "      <td>1.0</td>\n",
       "      <td>0.0</td>\n",
       "      <td>0.0</td>\n",
       "    </tr>\n",
       "  </tbody>\n",
       "</table>\n",
       "</div>"
      ],
      "text/plain": [
       "     from  follow  followback  likes  likeornot\n",
       "0     253     0.0         1.0    0.0        0.0\n",
       "1    4423     0.0         1.0    0.0        0.0\n",
       "2    2361     0.0         1.0    0.0        0.0\n",
       "3   29000     0.0         1.0    0.0        0.0\n",
       "4    7874     0.0         1.0    0.0        0.0\n",
       "5     314     0.0         1.0    0.0        0.0\n",
       "6    4423     0.0         1.0    0.0        0.0\n",
       "7     311     0.0         1.0    0.0        0.0\n",
       "8    4190     0.0         1.0    0.0        0.0\n",
       "9   21000     0.0         1.0    0.0        0.0\n",
       "10  21000     0.0         1.0    0.0        0.0\n",
       "11   1110     0.0         1.0    0.0        0.0\n",
       "12  21000     0.0         1.0    0.0        0.0\n",
       "13  13000     0.0         1.0    0.0        0.0\n",
       "14    455     0.0         1.0    0.0        0.0\n",
       "15   2772     0.0         1.0    0.0        0.0\n",
       "16   1110     0.0         1.0    0.0        0.0\n",
       "17    250     0.0         1.0    0.0        0.0\n",
       "18    455     0.0         1.0    0.0        0.0\n",
       "19   4190     0.0         1.0    0.0        0.0\n",
       "20    455     0.0         1.0    0.0        0.0\n",
       "21  21000     0.0         1.0    0.0        0.0\n",
       "22    455     0.0         1.0    0.0        0.0\n",
       "23   3841     0.0         1.0    0.0        0.0\n",
       "24    635     0.0         1.0    0.0        0.0\n",
       "25  21000     0.0         1.0    0.0        0.0\n",
       "26   7874     0.0         1.0    0.0        0.0"
      ]
     },
     "execution_count": 54,
     "metadata": {},
     "output_type": "execute_result"
    }
   ],
   "source": [
    "creat.head(27)"
   ]
  },
  {
   "cell_type": "code",
   "execution_count": 55,
   "metadata": {},
   "outputs": [
    {
     "data": {
      "text/html": [
       "<div>\n",
       "<style scoped>\n",
       "    .dataframe tbody tr th:only-of-type {\n",
       "        vertical-align: middle;\n",
       "    }\n",
       "\n",
       "    .dataframe tbody tr th {\n",
       "        vertical-align: top;\n",
       "    }\n",
       "\n",
       "    .dataframe thead th {\n",
       "        text-align: right;\n",
       "    }\n",
       "</style>\n",
       "<table border=\"1\" class=\"dataframe\">\n",
       "  <thead>\n",
       "    <tr style=\"text-align: right;\">\n",
       "      <th></th>\n",
       "      <th>from</th>\n",
       "      <th>follow</th>\n",
       "      <th>followback</th>\n",
       "      <th>likes</th>\n",
       "      <th>likeornot</th>\n",
       "    </tr>\n",
       "  </thead>\n",
       "  <tbody>\n",
       "    <tr>\n",
       "      <th>0</th>\n",
       "      <td>253</td>\n",
       "      <td>0.0</td>\n",
       "      <td>1.0</td>\n",
       "      <td>0.0</td>\n",
       "      <td>0.0</td>\n",
       "    </tr>\n",
       "    <tr>\n",
       "      <th>1</th>\n",
       "      <td>4423</td>\n",
       "      <td>0.0</td>\n",
       "      <td>1.0</td>\n",
       "      <td>0.0</td>\n",
       "      <td>0.0</td>\n",
       "    </tr>\n",
       "    <tr>\n",
       "      <th>2</th>\n",
       "      <td>2361</td>\n",
       "      <td>0.0</td>\n",
       "      <td>1.0</td>\n",
       "      <td>0.0</td>\n",
       "      <td>0.0</td>\n",
       "    </tr>\n",
       "    <tr>\n",
       "      <th>3</th>\n",
       "      <td>29000</td>\n",
       "      <td>0.0</td>\n",
       "      <td>1.0</td>\n",
       "      <td>0.0</td>\n",
       "      <td>0.0</td>\n",
       "    </tr>\n",
       "    <tr>\n",
       "      <th>4</th>\n",
       "      <td>7874</td>\n",
       "      <td>0.0</td>\n",
       "      <td>1.0</td>\n",
       "      <td>0.0</td>\n",
       "      <td>0.0</td>\n",
       "    </tr>\n",
       "  </tbody>\n",
       "</table>\n",
       "</div>"
      ],
      "text/plain": [
       "    from  follow  followback  likes  likeornot\n",
       "0    253     0.0         1.0    0.0        0.0\n",
       "1   4423     0.0         1.0    0.0        0.0\n",
       "2   2361     0.0         1.0    0.0        0.0\n",
       "3  29000     0.0         1.0    0.0        0.0\n",
       "4   7874     0.0         1.0    0.0        0.0"
      ]
     },
     "execution_count": 55,
     "metadata": {},
     "output_type": "execute_result"
    },
    {
     "name": "stdout",
     "output_type": "stream",
     "text": [
      "<class 'pandas.core.frame.DataFrame'>\n",
      "RangeIndex: 158166 entries, 0 to 158165\n",
      "Data columns (total 5 columns):\n",
      " #   Column      Non-Null Count   Dtype  \n",
      "---  ------      --------------   -----  \n",
      " 0   from        158166 non-null  int64  \n",
      " 1   follow      158166 non-null  float64\n",
      " 2   followback  158166 non-null  float64\n",
      " 3   likes       158166 non-null  float64\n",
      " 4   likeornot   158166 non-null  float64\n",
      "dtypes: float64(4), int64(1)\n",
      "memory usage: 6.0 MB\n"
     ]
    }
   ],
   "source": [
    "creat.head()\n",
    "creat.info()"
   ]
  },
  {
   "cell_type": "code",
   "execution_count": 56,
   "metadata": {},
   "outputs": [],
   "source": [
    "final=pd.concat([new,creat],axis=0)\n",
    "final=final.reset_index()"
   ]
  },
  {
   "cell_type": "code",
   "execution_count": 57,
   "metadata": {},
   "outputs": [
    {
     "data": {
      "text/html": [
       "<div>\n",
       "<style scoped>\n",
       "    .dataframe tbody tr th:only-of-type {\n",
       "        vertical-align: middle;\n",
       "    }\n",
       "\n",
       "    .dataframe tbody tr th {\n",
       "        vertical-align: top;\n",
       "    }\n",
       "\n",
       "    .dataframe thead th {\n",
       "        text-align: right;\n",
       "    }\n",
       "</style>\n",
       "<table border=\"1\" class=\"dataframe\">\n",
       "  <thead>\n",
       "    <tr style=\"text-align: right;\">\n",
       "      <th></th>\n",
       "      <th>from</th>\n",
       "      <th>follow</th>\n",
       "      <th>followback</th>\n",
       "      <th>likes</th>\n",
       "      <th>likeornot</th>\n",
       "    </tr>\n",
       "  </thead>\n",
       "  <tbody>\n",
       "    <tr>\n",
       "      <th>0</th>\n",
       "      <td>250</td>\n",
       "      <td>1.0</td>\n",
       "      <td>0.0</td>\n",
       "      <td>0.0</td>\n",
       "      <td>0.0</td>\n",
       "    </tr>\n",
       "    <tr>\n",
       "      <th>1</th>\n",
       "      <td>8690</td>\n",
       "      <td>1.0</td>\n",
       "      <td>0.0</td>\n",
       "      <td>0.0</td>\n",
       "      <td>0.0</td>\n",
       "    </tr>\n",
       "  </tbody>\n",
       "</table>\n",
       "</div>"
      ],
      "text/plain": [
       "   from  follow  followback  likes  likeornot\n",
       "0   250     1.0         0.0    0.0        0.0\n",
       "1  8690     1.0         0.0    0.0        0.0"
      ]
     },
     "execution_count": 57,
     "metadata": {},
     "output_type": "execute_result"
    },
    {
     "name": "stdout",
     "output_type": "stream",
     "text": [
      "<class 'pandas.core.frame.DataFrame'>\n",
      "RangeIndex: 159513 entries, 0 to 159512\n",
      "Data columns (total 5 columns):\n",
      " #   Column      Non-Null Count   Dtype  \n",
      "---  ------      --------------   -----  \n",
      " 0   from        159513 non-null  int64  \n",
      " 1   follow      159513 non-null  float64\n",
      " 2   followback  159513 non-null  float64\n",
      " 3   likes       159513 non-null  float64\n",
      " 4   likeornot   159513 non-null  float64\n",
      "dtypes: float64(4), int64(1)\n",
      "memory usage: 6.1 MB\n"
     ]
    }
   ],
   "source": [
    "del final['index']\n",
    "final.head(2)\n",
    "final.info()"
   ]
  },
  {
   "cell_type": "code",
   "execution_count": 58,
   "metadata": {},
   "outputs": [
    {
     "name": "stdout",
     "output_type": "stream",
     "text": [
      "0.0    159326\n",
      "1.0       187\n",
      "Name: followback, dtype: int64\n"
     ]
    }
   ],
   "source": [
    "print(final['followback'].value_counts())"
   ]
  },
  {
   "cell_type": "code",
   "execution_count": 59,
   "metadata": {},
   "outputs": [],
   "source": [
    "final.to_csv('finaldataset.csv')"
   ]
  },
  {
   "cell_type": "code",
   "execution_count": 60,
   "metadata": {},
   "outputs": [
    {
     "data": {
      "text/plain": [
       "<matplotlib.axes._subplots.AxesSubplot at 0x7fbc60536c70>"
      ]
     },
     "execution_count": 60,
     "metadata": {},
     "output_type": "execute_result"
    },
    {
     "data": {
      "text/plain": [
       "Text(0.5, 1.0, 'The Proportion of Followback Users')"
      ]
     },
     "execution_count": 60,
     "metadata": {},
     "output_type": "execute_result"
    },
    {
     "data": {
      "image/png": "[encoded data removed]",
      "text/plain": [
       "<Figure size 432x288 with 1 Axes>"
      ]
     },
     "metadata": {},
     "output_type": "display_data"
    }
   ],
   "source": [
    "#calculate the count of streams in or out key playlist.\n",
    "fb = final[\"followback\"].value_counts()\n",
    "labels = 'no', 'yes'\n",
    "\n",
    "#pie chart plot\n",
    "fb.plot.pie(autopct = '%1.1f%%',explode= [0,0.05], labels = labels)\n",
    "plt.title(\"The Proportion of Followback Users\",fontsize=14,weight=400)\n",
    "plt.savefig('/Users/shuyuewang/Downloads/1.jpg')\n",
    "plt.show()\n"
   ]
  },
  {
   "cell_type": "code",
   "execution_count": 61,
   "metadata": {},
   "outputs": [
    {
     "data": {
      "text/plain": [
       "<matplotlib.axes._subplots.AxesSubplot at 0x7fbc605c3160>"
      ]
     },
     "execution_count": 61,
     "metadata": {},
     "output_type": "execute_result"
    },
    {
     "data": {
      "text/plain": [
       "Text(0.5, 1.0, 'The Proportion of Followback Users Who We Interacted With')"
      ]
     },
     "execution_count": 61,
     "metadata": {},
     "output_type": "execute_result"
    },
    {
     "data": {
      "image/png": "[encoded data removed]",
      "text/plain": [
       "<Figure size 432x288 with 1 Axes>"
      ]
     },
     "metadata": {},
     "output_type": "display_data"
    },
    {
     "data": {
      "text/plain": [
       "<Figure size 432x288 with 0 Axes>"
      ]
     },
     "metadata": {},
     "output_type": "display_data"
    }
   ],
   "source": [
    "#calculate the count of streams in or out key playlist.\n",
    "Target = new[\"followback\"].value_counts()\n",
    "labels = 'no', 'yes'\n",
    "\n",
    "#pie chart plot\n",
    "Target.plot.pie(autopct = '%1.1f%%',explode= [0,0.05], labels = labels)\n",
    "plt.title(\"The Proportion of Followback Users Who We Interacted With\",fontsize=14,weight=400)\n",
    "plt.show()\n",
    "plt.savefig('/Users/shuyuewang/Downloads/1.png')"
   ]
  },
  {
   "cell_type": "code",
   "execution_count": 62,
   "metadata": {},
   "outputs": [
    {
     "data": {
      "text/plain": [
       "<matplotlib.axes._subplots.AxesSubplot at 0x7fbc606c47c0>"
      ]
     },
     "execution_count": 62,
     "metadata": {},
     "output_type": "execute_result"
    },
    {
     "data": {
      "text/plain": [
       "Text(0.5, 1.0, 'The Proportion of Followback Users Who We Followed')"
      ]
     },
     "execution_count": 62,
     "metadata": {},
     "output_type": "execute_result"
    },
    {
     "data": {
      "image/png": "[encoded data removed]",
      "text/plain": [
       "<Figure size 432x288 with 1 Axes>"
      ]
     },
     "metadata": {},
     "output_type": "display_data"
    },
    {
     "data": {
      "text/plain": [
       "<Figure size 432x288 with 0 Axes>"
      ]
     },
     "metadata": {},
     "output_type": "display_data"
    }
   ],
   "source": [
    "dofollow = new[['followback','follow']]\n",
    "dofollow = dofollow[dofollow['follow']==1]\n",
    "dofo = dofollow['followback'].value_counts()\n",
    "Labels = 'no', 'yes'\n",
    "\n",
    "#pie chart plot\n",
    "dofo.plot.pie(autopct = '%1.1f%%',explode= [0,0.05], labels = Labels)\n",
    "plt.title(\"The Proportion of Followback Users Who We Followed\",fontsize=14,weight=400)\n",
    "plt.show()\n",
    "plt.savefig('/Users/shuyuewang/Downloads/2.jpg')"
   ]
  },
  {
   "cell_type": "code",
   "execution_count": 63,
   "metadata": {},
   "outputs": [
    {
     "data": {
      "text/plain": [
       "<matplotlib.axes._subplots.AxesSubplot at 0x7fbc6070ba00>"
      ]
     },
     "execution_count": 63,
     "metadata": {},
     "output_type": "execute_result"
    },
    {
     "data": {
      "text/plain": [
       "Text(0.5, 1.0, 'The Proportion of Followback Users Who We Liked')"
      ]
     },
     "execution_count": 63,
     "metadata": {},
     "output_type": "execute_result"
    },
    {
     "data": {
      "image/png": "[encoded data removed]",
      "text/plain": [
       "<Figure size 432x288 with 1 Axes>"
      ]
     },
     "metadata": {},
     "output_type": "display_data"
    },
    {
     "data": {
      "text/plain": [
       "<Figure size 432x288 with 0 Axes>"
      ]
     },
     "metadata": {},
     "output_type": "display_data"
    }
   ],
   "source": [
    "dolike = new[['followback','likeornot','likes']]\n",
    "dolike = dolike[dolike['likeornot']==1]\n",
    "dolk = dolike['followback'].value_counts()\n",
    "Labels = 'no', 'yes'\n",
    "\n",
    "#pie chart plot\n",
    "dolk.plot.pie(autopct = '%1.1f%%',explode= [0,0.05], labels = Labels)\n",
    "plt.title(\"The Proportion of Followback Users Who We Liked\",fontsize=14,weight=400)\n",
    "plt.show()\n",
    "plt.savefig('/Users/shuyuewang/Downloads/3.jpg')"
   ]
  },
  {
   "cell_type": "code",
   "execution_count": 64,
   "metadata": {},
   "outputs": [
    {
     "data": {
      "text/plain": [
       "<matplotlib.axes._subplots.AxesSubplot at 0x7fbc6077b6a0>"
      ]
     },
     "execution_count": 64,
     "metadata": {},
     "output_type": "execute_result"
    },
    {
     "data": {
      "text/plain": [
       "Text(0.5, 1.0, 'The Proportion of Followback Users Who We Both Followed and Liked')"
      ]
     },
     "execution_count": 64,
     "metadata": {},
     "output_type": "execute_result"
    },
    {
     "data": {
      "image/png": "[encoded data removed]",
      "text/plain": [
       "<Figure size 432x288 with 1 Axes>"
      ]
     },
     "metadata": {},
     "output_type": "display_data"
    },
    {
     "data": {
      "text/plain": [
       "<Figure size 432x288 with 0 Axes>"
      ]
     },
     "metadata": {},
     "output_type": "display_data"
    }
   ],
   "source": [
    "folike = new[['followback','likeornot','likes','follow']]\n",
    "folike = folike[folike['likeornot']==1]\n",
    "folike = folike[folike['follow']==1]\n",
    "folk = folike['followback'].value_counts()\n",
    "Labels = 'no', 'yes'\n",
    "\n",
    "#pie chart plot\n",
    "folk.plot.pie(autopct = '%1.1f%%',explode= [0,0.05], labels = Labels)\n",
    "plt.title(\"The Proportion of Followback Users Who We Both Followed and Liked\",fontsize=14,weight=400)\n",
    "plt.show()\n",
    "plt.savefig('/Users/shuyuewang/Downloads/3.jpg')"
   ]
  },
  {
   "cell_type": "code",
   "execution_count": 65,
   "metadata": {},
   "outputs": [
    {
     "data": {
      "text/plain": [
       "<matplotlib.axes._subplots.AxesSubplot at 0x7fbc62d9eeb0>"
      ]
     },
     "execution_count": 65,
     "metadata": {},
     "output_type": "execute_result"
    },
    {
     "data": {
      "text/plain": [
       "Text(0.5, 1.0, 'The Followback Rate Based on Liked or Not')"
      ]
     },
     "execution_count": 65,
     "metadata": {},
     "output_type": "execute_result"
    },
    {
     "data": {
      "image/png": "[encoded data removed]",
      "text/plain": [
       "<Figure size 432x288 with 1 Axes>"
      ]
     },
     "metadata": {
      "needs_background": "light"
     },
     "output_type": "display_data"
    },
    {
     "data": {
      "text/plain": [
       "<matplotlib.axes._subplots.AxesSubplot at 0x7fbc65120460>"
      ]
     },
     "execution_count": 65,
     "metadata": {},
     "output_type": "execute_result"
    },
    {
     "data": {
      "text/plain": [
       "Text(0.5, 1.0, 'The Followback Rate Based on Followed or Not')"
      ]
     },
     "execution_count": 65,
     "metadata": {},
     "output_type": "execute_result"
    },
    {
     "data": {
      "image/png": "[encoded data removed]",
      "text/plain": [
       "<Figure size 432x288 with 1 Axes>"
      ]
     },
     "metadata": {
      "needs_background": "light"
     },
     "output_type": "display_data"
    }
   ],
   "source": [
    "sns.barplot('likeornot','followback','follow', data=final)\n",
    "plt.title(\"The Followback Rate Based on Liked or Not\",fontsize=14,weight=400)\n",
    "plt.show()\n",
    "sns.barplot('follow','followback','likeornot', data=final)\n",
    "plt.title(\"The Followback Rate Based on Followed or Not\",fontsize=14,weight=400)\n",
    "plt.show()"
   ]
  },
  {
   "cell_type": "code",
   "execution_count": 66,
   "metadata": {
    "scrolled": true
   },
   "outputs": [
    {
     "data": {
      "image/png": "[encoded data removed]",
      "text/plain": [
       "<Figure size 864x576 with 1 Axes>"
      ]
     },
     "metadata": {
      "needs_background": "light"
     },
     "output_type": "display_data"
    }
   ],
   "source": [
    "# will gender affect the play count of playlist \n",
    "fig = plt.figure(constrained_layout=False, figsize=(12,8))\n",
    "ax1 = plt.subplot(2,1,1)\n",
    "\n",
    "sns.countplot(ax=ax1,x=new[\"from\"], hue=new[\"followback\"],alpha=0.9)\n",
    "ax1.set_title(\"Followback Distribution on Competitors Account Size\",fontsize=16,weight=400)\n",
    "ax1.legend(loc=\"upper right\")\n",
    "\n",
    "plt.tight_layout()   \n",
    "plt.show();"
   ]
  },
  {
   "cell_type": "code",
   "execution_count": 67,
   "metadata": {},
   "outputs": [
    {
     "data": {
      "text/plain": [
       "<Figure size 864x432 with 0 Axes>"
      ]
     },
     "execution_count": 67,
     "metadata": {},
     "output_type": "execute_result"
    },
    {
     "data": {
      "text/plain": [
       "<matplotlib.axes._subplots.AxesSubplot at 0x7fbc634dcb80>"
      ]
     },
     "execution_count": 67,
     "metadata": {},
     "output_type": "execute_result"
    },
    {
     "data": {
      "text/plain": [
       "<matplotlib.legend.Legend at 0x7fbc634dc8b0>"
      ]
     },
     "execution_count": 67,
     "metadata": {},
     "output_type": "execute_result"
    },
    {
     "data": {
      "text/plain": [
       "Text(0.5, 1.0, 'Density Plot of Fare for Surviving Population and Deceased Population')"
      ]
     },
     "execution_count": 67,
     "metadata": {},
     "output_type": "execute_result"
    },
    {
     "data": {
      "text/plain": [
       "[Text(0.5, 0, 'from')]"
      ]
     },
     "execution_count": 67,
     "metadata": {},
     "output_type": "execute_result"
    },
    {
     "data": {
      "text/plain": [
       "(0.0, 30000.0)"
      ]
     },
     "execution_count": 67,
     "metadata": {},
     "output_type": "execute_result"
    },
    {
     "data": {
      "image/png": "[encoded data removed]",
      "text/plain": [
       "<Figure size 864x432 with 1 Axes>"
      ]
     },
     "metadata": {
      "needs_background": "light"
     },
     "output_type": "display_data"
    }
   ],
   "source": [
    "plt.figure(figsize=(12,6))\n",
    "ax = sns.kdeplot(final[\"from\"][final.followback == 1], color=\"darkturquoise\", shade=True)\n",
    "sns.kdeplot(final[\"from\"][final.followback == 0], color=\"lightcoral\", shade=True)\n",
    "plt.legend(['followback', 'Not followback'])\n",
    "plt.title('Density Plot of Fare for Surviving Population and Deceased Population')\n",
    "ax.set(xlabel='from')\n",
    "plt.xlim(0,30000)\n",
    "plt.show()"
   ]
  },
  {
   "cell_type": "code",
   "execution_count": 68,
   "metadata": {},
   "outputs": [
    {
     "data": {
      "text/plain": [
       "<matplotlib.axes._subplots.AxesSubplot at 0x7fbc60755280>"
      ]
     },
     "execution_count": 68,
     "metadata": {},
     "output_type": "execute_result"
    },
    {
     "data": {
      "text/plain": [
       "Text(0.5, 1.0, 'Followback Distribution on Likes We Give')"
      ]
     },
     "execution_count": 68,
     "metadata": {},
     "output_type": "execute_result"
    },
    {
     "data": {
      "text/plain": [
       "<matplotlib.legend.Legend at 0x7fbc6360dac0>"
      ]
     },
     "execution_count": 68,
     "metadata": {},
     "output_type": "execute_result"
    },
    {
     "data": {
      "image/png": "[encoded data removed]",
      "text/plain": [
       "<Figure size 720x576 with 1 Axes>"
      ]
     },
     "metadata": {
      "needs_background": "light"
     },
     "output_type": "display_data"
    }
   ],
   "source": [
    "# will gender affect the play count of playlist \n",
    "fig = plt.figure(constrained_layout=False, figsize=(10,8))\n",
    "ax1 = plt.subplot(2,1,1)\n",
    "\n",
    "sns.countplot(ax=ax1,x=new[\"likes\"], hue=new[\"followback\"],alpha=0.9)\n",
    "ax1.set_title(\"Followback Distribution on Likes We Give\",fontsize=14,weight=400)\n",
    "ax1.legend(loc=\"upper right\")\n",
    "\n",
    "plt.tight_layout()   \n",
    "plt.show()\n",
    "\n"
   ]
  },
  {
   "cell_type": "code",
   "execution_count": 69,
   "metadata": {},
   "outputs": [
    {
     "data": {
      "text/plain": [
       "<matplotlib.axes._subplots.AxesSubplot at 0x7fbc60755d00>"
      ]
     },
     "execution_count": 69,
     "metadata": {},
     "output_type": "execute_result"
    },
    {
     "data": {
      "image/png": "[encoded data removed]",
      "text/plain": [
       "<Figure size 648x288 with 1 Axes>"
      ]
     },
     "metadata": {
      "needs_background": "light"
     },
     "output_type": "display_data"
    }
   ],
   "source": [
    "fig = plt.figure(constrained_layout=False, figsize=(9,4))\n",
    "sns.barplot('likes','followback', data=new)\n",
    "plt.show()"
   ]
  },
  {
   "cell_type": "code",
   "execution_count": 73,
   "metadata": {},
   "outputs": [
    {
     "data": {
      "text/html": [
       "<div>\n",
       "<style scoped>\n",
       "    .dataframe tbody tr th:only-of-type {\n",
       "        vertical-align: middle;\n",
       "    }\n",
       "\n",
       "    .dataframe tbody tr th {\n",
       "        vertical-align: top;\n",
       "    }\n",
       "\n",
       "    .dataframe thead th {\n",
       "        text-align: right;\n",
       "    }\n",
       "</style>\n",
       "<table border=\"1\" class=\"dataframe\">\n",
       "  <thead>\n",
       "    <tr style=\"text-align: right;\">\n",
       "      <th></th>\n",
       "      <th>follow</th>\n",
       "    </tr>\n",
       "    <tr>\n",
       "      <th>followback</th>\n",
       "      <th></th>\n",
       "    </tr>\n",
       "  </thead>\n",
       "  <tbody>\n",
       "    <tr>\n",
       "      <th>0.0</th>\n",
       "      <td>1073</td>\n",
       "    </tr>\n",
       "    <tr>\n",
       "      <th>1.0</th>\n",
       "      <td>147</td>\n",
       "    </tr>\n",
       "  </tbody>\n",
       "</table>\n",
       "</div>"
      ],
      "text/plain": [
       "            follow\n",
       "followback        \n",
       "0.0           1073\n",
       "1.0            147"
      ]
     },
     "execution_count": 73,
     "metadata": {},
     "output_type": "execute_result"
    },
    {
     "data": {
      "text/html": [
       "<div>\n",
       "<style scoped>\n",
       "    .dataframe tbody tr th:only-of-type {\n",
       "        vertical-align: middle;\n",
       "    }\n",
       "\n",
       "    .dataframe tbody tr th {\n",
       "        vertical-align: top;\n",
       "    }\n",
       "\n",
       "    .dataframe thead th {\n",
       "        text-align: right;\n",
       "    }\n",
       "</style>\n",
       "<table border=\"1\" class=\"dataframe\">\n",
       "  <thead>\n",
       "    <tr style=\"text-align: right;\">\n",
       "      <th></th>\n",
       "      <th>follow</th>\n",
       "    </tr>\n",
       "    <tr>\n",
       "      <th>followback</th>\n",
       "      <th></th>\n",
       "    </tr>\n",
       "  </thead>\n",
       "  <tbody>\n",
       "    <tr>\n",
       "      <th>0.0</th>\n",
       "      <td>158253</td>\n",
       "    </tr>\n",
       "    <tr>\n",
       "      <th>1.0</th>\n",
       "      <td>40</td>\n",
       "    </tr>\n",
       "  </tbody>\n",
       "</table>\n",
       "</div>"
      ],
      "text/plain": [
       "            follow\n",
       "followback        \n",
       "0.0         158253\n",
       "1.0             40"
      ]
     },
     "execution_count": 73,
     "metadata": {},
     "output_type": "execute_result"
    },
    {
     "data": {
      "text/html": [
       "<div>\n",
       "<style scoped>\n",
       "    .dataframe tbody tr th:only-of-type {\n",
       "        vertical-align: middle;\n",
       "    }\n",
       "\n",
       "    .dataframe tbody tr th {\n",
       "        vertical-align: top;\n",
       "    }\n",
       "\n",
       "    .dataframe thead th {\n",
       "        text-align: right;\n",
       "    }\n",
       "</style>\n",
       "<table border=\"1\" class=\"dataframe\">\n",
       "  <thead>\n",
       "    <tr style=\"text-align: right;\">\n",
       "      <th></th>\n",
       "      <th>Followback</th>\n",
       "      <th>NotFollowback</th>\n",
       "      <th>Sum</th>\n",
       "    </tr>\n",
       "  </thead>\n",
       "  <tbody>\n",
       "    <tr>\n",
       "      <th>Follow</th>\n",
       "      <td>147</td>\n",
       "      <td>1073</td>\n",
       "      <td>1220</td>\n",
       "    </tr>\n",
       "    <tr>\n",
       "      <th>NotFollow</th>\n",
       "      <td>40</td>\n",
       "      <td>158253</td>\n",
       "      <td>158293</td>\n",
       "    </tr>\n",
       "    <tr>\n",
       "      <th>Sum</th>\n",
       "      <td>187</td>\n",
       "      <td>159326</td>\n",
       "      <td>159513</td>\n",
       "    </tr>\n",
       "  </tbody>\n",
       "</table>\n",
       "</div>"
      ],
      "text/plain": [
       "           Followback  NotFollowback     Sum\n",
       "Follow            147           1073    1220\n",
       "NotFollow          40         158253  158293\n",
       "Sum               187         159326  159513"
      ]
     },
     "execution_count": 73,
     "metadata": {},
     "output_type": "execute_result"
    },
    {
     "data": {
      "text/html": [
       "<div>\n",
       "<style scoped>\n",
       "    .dataframe tbody tr th:only-of-type {\n",
       "        vertical-align: middle;\n",
       "    }\n",
       "\n",
       "    .dataframe tbody tr th {\n",
       "        vertical-align: top;\n",
       "    }\n",
       "\n",
       "    .dataframe thead th {\n",
       "        text-align: right;\n",
       "    }\n",
       "</style>\n",
       "<table border=\"1\" class=\"dataframe\">\n",
       "  <thead>\n",
       "    <tr style=\"text-align: right;\">\n",
       "      <th></th>\n",
       "      <th>Followback</th>\n",
       "      <th>NotFollowback</th>\n",
       "    </tr>\n",
       "  </thead>\n",
       "  <tbody>\n",
       "    <tr>\n",
       "      <th>Follow</th>\n",
       "      <td>1.430228</td>\n",
       "      <td>1218.569772</td>\n",
       "    </tr>\n",
       "    <tr>\n",
       "      <th>Notfollow</th>\n",
       "      <td>185.569772</td>\n",
       "      <td>158107.430228</td>\n",
       "    </tr>\n",
       "  </tbody>\n",
       "</table>\n",
       "</div>"
      ],
      "text/plain": [
       "           Followback  NotFollowback\n",
       "Follow       1.430228    1218.569772\n",
       "Notfollow  185.569772  158107.430228"
      ]
     },
     "execution_count": 73,
     "metadata": {},
     "output_type": "execute_result"
    },
    {
     "data": {
      "text/plain": [
       "(14947.922957933735,\n",
       " 0.0,\n",
       " 2,\n",
       " array([[1.43022826e+00, 1.21856977e+03],\n",
       "        [1.85569772e+02, 1.58107430e+05],\n",
       "        [1.87000000e+02, 1.59326000e+05]]))"
      ]
     },
     "execution_count": 73,
     "metadata": {},
     "output_type": "execute_result"
    }
   ],
   "source": [
    "t1 = final[['followback','follow']]\n",
    "#t1[t1['follow']==1].count()\n",
    "#t1.head(100)\n",
    "t1[t1['follow']==1].groupby('followback').count()\n",
    "t1[t1['follow']==0].groupby('followback').count()\n",
    "t_1 = pd.DataFrame(columns = ['Followback','NotFollowback','Sum'],index = ['Follow','NotFollow','Sum'],\n",
    "                 data=[[147,1073,147+1073],[40,158253,40+158253],[147+40,1073+158253,159513]])\n",
    "t_1\n",
    "T1 = pd.DataFrame(columns = ['Followback','NotFollowback'],index = ['Follow','Notfollow'],\n",
    "                 data=[[187*1220/159513,159326*1220/159513],[187*158293/159513,159326*158293/159513]])\n",
    "T1\n",
    "from scipy import stats\n",
    "observed = t_1[['Followback','NotFollowback']]\n",
    "stats.chi2_contingency(observed=observed)"
   ]
  },
  {
   "cell_type": "code",
   "execution_count": 75,
   "metadata": {},
   "outputs": [
    {
     "data": {
      "text/html": [
       "<div>\n",
       "<style scoped>\n",
       "    .dataframe tbody tr th:only-of-type {\n",
       "        vertical-align: middle;\n",
       "    }\n",
       "\n",
       "    .dataframe tbody tr th {\n",
       "        vertical-align: top;\n",
       "    }\n",
       "\n",
       "    .dataframe thead th {\n",
       "        text-align: right;\n",
       "    }\n",
       "</style>\n",
       "<table border=\"1\" class=\"dataframe\">\n",
       "  <thead>\n",
       "    <tr style=\"text-align: right;\">\n",
       "      <th></th>\n",
       "      <th>likeornot</th>\n",
       "    </tr>\n",
       "    <tr>\n",
       "      <th>followback</th>\n",
       "      <th></th>\n",
       "    </tr>\n",
       "  </thead>\n",
       "  <tbody>\n",
       "    <tr>\n",
       "      <th>0.0</th>\n",
       "      <td>566</td>\n",
       "    </tr>\n",
       "    <tr>\n",
       "      <th>1.0</th>\n",
       "      <td>79</td>\n",
       "    </tr>\n",
       "  </tbody>\n",
       "</table>\n",
       "</div>"
      ],
      "text/plain": [
       "            likeornot\n",
       "followback           \n",
       "0.0               566\n",
       "1.0                79"
      ]
     },
     "execution_count": 75,
     "metadata": {},
     "output_type": "execute_result"
    },
    {
     "data": {
      "text/html": [
       "<div>\n",
       "<style scoped>\n",
       "    .dataframe tbody tr th:only-of-type {\n",
       "        vertical-align: middle;\n",
       "    }\n",
       "\n",
       "    .dataframe tbody tr th {\n",
       "        vertical-align: top;\n",
       "    }\n",
       "\n",
       "    .dataframe thead th {\n",
       "        text-align: right;\n",
       "    }\n",
       "</style>\n",
       "<table border=\"1\" class=\"dataframe\">\n",
       "  <thead>\n",
       "    <tr style=\"text-align: right;\">\n",
       "      <th></th>\n",
       "      <th>likeornot</th>\n",
       "    </tr>\n",
       "    <tr>\n",
       "      <th>followback</th>\n",
       "      <th></th>\n",
       "    </tr>\n",
       "  </thead>\n",
       "  <tbody>\n",
       "    <tr>\n",
       "      <th>0.0</th>\n",
       "      <td>158760</td>\n",
       "    </tr>\n",
       "    <tr>\n",
       "      <th>1.0</th>\n",
       "      <td>108</td>\n",
       "    </tr>\n",
       "  </tbody>\n",
       "</table>\n",
       "</div>"
      ],
      "text/plain": [
       "            likeornot\n",
       "followback           \n",
       "0.0            158760\n",
       "1.0               108"
      ]
     },
     "execution_count": 75,
     "metadata": {},
     "output_type": "execute_result"
    },
    {
     "data": {
      "text/html": [
       "<div>\n",
       "<style scoped>\n",
       "    .dataframe tbody tr th:only-of-type {\n",
       "        vertical-align: middle;\n",
       "    }\n",
       "\n",
       "    .dataframe tbody tr th {\n",
       "        vertical-align: top;\n",
       "    }\n",
       "\n",
       "    .dataframe thead th {\n",
       "        text-align: right;\n",
       "    }\n",
       "</style>\n",
       "<table border=\"1\" class=\"dataframe\">\n",
       "  <thead>\n",
       "    <tr style=\"text-align: right;\">\n",
       "      <th></th>\n",
       "      <th>Followback</th>\n",
       "      <th>NotFollowback</th>\n",
       "      <th>Sum</th>\n",
       "    </tr>\n",
       "  </thead>\n",
       "  <tbody>\n",
       "    <tr>\n",
       "      <th>Like</th>\n",
       "      <td>79</td>\n",
       "      <td>566</td>\n",
       "      <td>645</td>\n",
       "    </tr>\n",
       "    <tr>\n",
       "      <th>NotLike</th>\n",
       "      <td>108</td>\n",
       "      <td>158760</td>\n",
       "      <td>158868</td>\n",
       "    </tr>\n",
       "    <tr>\n",
       "      <th>Sum</th>\n",
       "      <td>187</td>\n",
       "      <td>159326</td>\n",
       "      <td>159513</td>\n",
       "    </tr>\n",
       "  </tbody>\n",
       "</table>\n",
       "</div>"
      ],
      "text/plain": [
       "         Followback  NotFollowback     Sum\n",
       "Like             79            566     645\n",
       "NotLike         108         158760  158868\n",
       "Sum             187         159326  159513"
      ]
     },
     "execution_count": 75,
     "metadata": {},
     "output_type": "execute_result"
    },
    {
     "data": {
      "text/html": [
       "<div>\n",
       "<style scoped>\n",
       "    .dataframe tbody tr th:only-of-type {\n",
       "        vertical-align: middle;\n",
       "    }\n",
       "\n",
       "    .dataframe tbody tr th {\n",
       "        vertical-align: top;\n",
       "    }\n",
       "\n",
       "    .dataframe thead th {\n",
       "        text-align: right;\n",
       "    }\n",
       "</style>\n",
       "<table border=\"1\" class=\"dataframe\">\n",
       "  <thead>\n",
       "    <tr style=\"text-align: right;\">\n",
       "      <th></th>\n",
       "      <th>Followback</th>\n",
       "      <th>NotFollowback</th>\n",
       "    </tr>\n",
       "  </thead>\n",
       "  <tbody>\n",
       "    <tr>\n",
       "      <th>Like</th>\n",
       "      <td>0.756145</td>\n",
       "      <td>644.243855</td>\n",
       "    </tr>\n",
       "    <tr>\n",
       "      <th>NotLike</th>\n",
       "      <td>186.243855</td>\n",
       "      <td>158681.756145</td>\n",
       "    </tr>\n",
       "  </tbody>\n",
       "</table>\n",
       "</div>"
      ],
      "text/plain": [
       "         Followback  NotFollowback\n",
       "Like       0.756145     644.243855\n",
       "NotLike  186.243855  158681.756145"
      ]
     },
     "execution_count": 75,
     "metadata": {},
     "output_type": "execute_result"
    },
    {
     "name": "stdout",
     "output_type": "stream",
     "text": [
      "pvalue = 0.000\n"
     ]
    }
   ],
   "source": [
    "t2 = final[['followback','likeornot']]\n",
    "\n",
    "t2[t2['likeornot']==1].groupby('followback').count()\n",
    "t2[t2['likeornot']==0].groupby('followback').count()\n",
    "t_2 = pd.DataFrame(columns = ['Followback','NotFollowback','Sum'],index = ['Like','NotLike','Sum'],\n",
    "                 data=[[79,566,79+566],[108,158760,108+158760],[79+108,566+158760,159513]])\n",
    "t_2\n",
    "T2 = pd.DataFrame(columns = ['Followback','NotFollowback'],index = ['Like','NotLike'],\n",
    "                 data=[[187*645/159513,159326*645/159513],[187*158868/159513,159326*158868/159513]])\n",
    "T2\n",
    "\n",
    "fisher = pd.DataFrame([[72,567],[101,159222]])\n",
    "from scipy.stats import fisher_exact\n",
    "oddsr, p = fisher_exact(fisher)\n",
    "print(f'pvalue = {p :.3f}')"
   ]
  }
 ],
 "metadata": {
  "kernelspec": {
   "display_name": "Python 3",
   "language": "python",
   "name": "python3"
  },
  "language_info": {
   "codemirror_mode": {
    "name": "ipython",
    "version": 3
   },
   "file_extension": ".py",
   "mimetype": "text/x-python",
   "name": "python",
   "nbconvert_exporter": "python",
   "pygments_lexer": "ipython3",
   "version": "3.8.3"
  }
 },
 "nbformat": 4,
 "nbformat_minor": 4
}
